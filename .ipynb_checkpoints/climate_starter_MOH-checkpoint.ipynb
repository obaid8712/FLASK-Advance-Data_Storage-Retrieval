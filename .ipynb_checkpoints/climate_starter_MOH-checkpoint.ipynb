{
 "cells": [
  {
   "cell_type": "code",
   "execution_count": 3,
   "metadata": {},
   "outputs": [],
   "source": [
    "%matplotlib inline\n",
    "from matplotlib import style\n",
    "style.use('fivethirtyeight')\n",
    "import matplotlib.pyplot as plt\n",
    "import matplotlib.patches as mpatches"
   ]
  },
  {
   "cell_type": "code",
   "execution_count": 4,
   "metadata": {},
   "outputs": [],
   "source": [
    "import numpy as np\n",
    "import pandas as pd\n",
    "from pandas.plotting import table"
   ]
  },
  {
   "cell_type": "code",
   "execution_count": 5,
   "metadata": {},
   "outputs": [],
   "source": [
    "import datetime as dt\n",
    "from dateutil.parser import parse"
   ]
  },
  {
   "cell_type": "markdown",
   "metadata": {},
   "source": [
    "# Reflect Tables into SQLAlchemy ORM"
   ]
  },
  {
   "cell_type": "code",
   "execution_count": 6,
   "metadata": {},
   "outputs": [],
   "source": [
    "# Python SQL toolkit and Object Relational Mapper\n",
    "import sqlalchemy\n",
    "from sqlalchemy.ext.automap import automap_base\n",
    "from sqlalchemy.orm import Session\n",
    "from sqlalchemy import create_engine, func, inspect"
   ]
  },
  {
   "cell_type": "code",
   "execution_count": 7,
   "metadata": {},
   "outputs": [],
   "source": [
    "engine = create_engine(\"sqlite:///Resources/hawaii.sqlite\")"
   ]
  },
  {
   "cell_type": "code",
   "execution_count": 8,
   "metadata": {},
   "outputs": [],
   "source": [
    "# reflect an existing database into a new model\n",
    "Base = automap_base()\n",
    "# reflect the tables\n",
    "Base.prepare(engine, reflect=True)"
   ]
  },
  {
   "cell_type": "code",
   "execution_count": 9,
   "metadata": {},
   "outputs": [
    {
     "data": {
      "text/plain": [
       "['measurement', 'station']"
      ]
     },
     "execution_count": 9,
     "metadata": {},
     "output_type": "execute_result"
    }
   ],
   "source": [
    "# We can view all of the classes that automap found\n",
    "Base.classes.keys()"
   ]
  },
  {
   "cell_type": "code",
   "execution_count": 10,
   "metadata": {},
   "outputs": [],
   "source": [
    "# Save references to each table\n",
    "Measurement = Base.classes.measurement\n",
    "Station = Base.classes.station"
   ]
  },
  {
   "cell_type": "code",
   "execution_count": 11,
   "metadata": {},
   "outputs": [],
   "source": [
    "# Create our session (link) from Python to the DB\n",
    "session = Session(engine)"
   ]
  },
  {
   "cell_type": "code",
   "execution_count": 12,
   "metadata": {},
   "outputs": [],
   "source": [
    "# Create the inspector and connect it to the engine\n",
    "inspector = inspect(engine)"
   ]
  },
  {
   "cell_type": "code",
   "execution_count": 13,
   "metadata": {},
   "outputs": [
    {
     "name": "stdout",
     "output_type": "stream",
     "text": [
      "id INTEGER\n",
      "station TEXT\n",
      "date TEXT\n",
      "prcp FLOAT\n",
      "tobs FLOAT\n"
     ]
    }
   ],
   "source": [
    "# Using the inspector to print the column names within the 'Measurement' table and its types\n",
    "columns = inspector.get_columns('measurement')\n",
    "for column in columns:\n",
    "    print(column[\"name\"], column[\"type\"])"
   ]
  },
  {
   "cell_type": "code",
   "execution_count": 14,
   "metadata": {},
   "outputs": [
    {
     "name": "stdout",
     "output_type": "stream",
     "text": [
      "id INTEGER\n",
      "station TEXT\n",
      "name TEXT\n",
      "latitude FLOAT\n",
      "longitude FLOAT\n",
      "elevation FLOAT\n"
     ]
    }
   ],
   "source": [
    "# Using the inspector to print the column names within the 'Station' table and its types\n",
    "columns = inspector.get_columns('station')\n",
    "for column in columns:\n",
    "    print(column[\"name\"], column[\"type\"])"
   ]
  },
  {
   "cell_type": "markdown",
   "metadata": {},
   "source": [
    "#  Exploratory Climate Analysis"
   ]
  },
  {
   "cell_type": "code",
   "execution_count": 15,
   "metadata": {},
   "outputs": [],
   "source": [
    "# Design a query to retrieve the last 12 months of precipitation data and plot the results\n",
    "\n",
    "# Calculate the date 1 year ago from the last data point in the database\n",
    "\n",
    "# Perform a query to retrieve the data and precipitation scores\n",
    "\n",
    "# Save the query results as a Pandas DataFrame and set the index to the date column\n",
    "\n",
    "# Sort the dataframe by date\n",
    "\n",
    "# Use Pandas Plotting with Matplotlib to plot the data"
   ]
  },
  {
   "cell_type": "code",
   "execution_count": 17,
   "metadata": {},
   "outputs": [],
   "source": [
    "# Query All Records in the the Database\n",
    "results = session.query(Measurement.id, Measurement.station, Measurement.date, Measurement.prcp, Measurement.tobs ).all()\n",
    "  \n",
    "#for row in results:\n",
    "#    print(row)"
   ]
  },
  {
   "cell_type": "code",
   "execution_count": 18,
   "metadata": {},
   "outputs": [
    {
     "name": "stdout",
     "output_type": "stream",
     "text": [
      "2016-08-22 00:00:00\n"
     ]
    }
   ],
   "source": [
    "# Calculate the date 1 year ago from the last data point in the database\n",
    "max_date = session.query(Measurement.id, Measurement.station, func.max(Measurement.date), Measurement.prcp,\\\n",
    "                         Measurement.tobs ).all()\n",
    "max_date[0][2]\n",
    "max_dt=parse(max_date[0][2])\n",
    "date=max_dt-dt.timedelta(days=366)\n",
    "print(date)"
   ]
  },
  {
   "cell_type": "code",
   "execution_count": 19,
   "metadata": {},
   "outputs": [
    {
     "name": "stdout",
     "output_type": "stream",
     "text": [
      "(2724, 'USC00519397', '2017-08-23', 0.53, 81.0)\n",
      "(2723, 'USC00519397', '2017-08-22', 0.5, 82.0)\n",
      "(2722, 'USC00519397', '2017-08-21', 0.5800000000000001, 81.0)\n",
      "(2721, 'USC00519397', '2017-08-20', 0.01, 81.0)\n",
      "(2720, 'USC00519397', '2017-08-19', 0.09, 79.0)\n",
      "(2719, 'USC00519397', '2017-08-18', 0.06, 80.0)\n",
      "(7630, 'USC00514830', '2017-08-17', 0.19, 78.0)\n",
      "(7629, 'USC00514830', '2017-08-16', 0.61, 82.0)\n",
      "(2718, 'USC00519397', '2017-08-15', 0.8200000000000001, 78.0)\n",
      "(2717, 'USC00519397', '2017-08-14', 0.31, 79.0)\n",
      "(2716, 'USC00519397', '2017-08-13', 0.0, 81.0)\n",
      "(2715, 'USC00519397', '2017-08-12', 0.14, 80.0)\n",
      "(2714, 'USC00519397', '2017-08-11', 0.0, 78.0)\n",
      "(2713, 'USC00519397', '2017-08-10', 0.07, 81.0)\n",
      "(2712, 'USC00519397', '2017-08-09', 0.15, 80.0)\n",
      "(2711, 'USC00519397', '2017-08-08', 0.44000000000000006, 80.0)\n",
      "(2710, 'USC00519397', '2017-08-07', 0.05, 80.0)\n",
      "(2709, 'USC00519397', '2017-08-06', 0.0, 80.0)\n",
      "(2708, 'USC00519397', '2017-08-05', 0.06, 81.0)\n",
      "(2707, 'USC00519397', '2017-08-04', 0.06, 80.0)\n",
      "(2706, 'USC00519397', '2017-08-03', 0.06999999999999999, 79.0)\n",
      "(2705, 'USC00519397', '2017-08-02', 0.3, 73.0)\n",
      "(2704, 'USC00519397', '2017-08-01', 0.13999999999999999, 77.0)\n",
      "(2703, 'USC00519397', '2017-07-31', 0.0, 80.0)\n",
      "(2702, 'USC00519397', '2017-07-30', 0.3, 81.0)\n",
      "(2701, 'USC00519397', '2017-07-29', 0.61, 81.0)\n",
      "(2700, 'USC00519397', '2017-07-28', 0.77, 81.0)\n",
      "(2699, 'USC00519397', '2017-07-27', 0.01, 79.0)\n",
      "(2698, 'USC00519397', '2017-07-26', 0.5, 82.0)\n",
      "(2697, 'USC00519397', '2017-07-25', 0.61, 80.0)\n",
      "(2696, 'USC00519397', '2017-07-24', 3.2699999999999996, 78.0)\n",
      "(2695, 'USC00519397', '2017-07-23', 1.1300000000000001, 81.0)\n",
      "(2694, 'USC00519397', '2017-07-22', 4.42, 81.0)\n",
      "(2693, 'USC00519397', '2017-07-21', 0.13, 80.0)\n",
      "(2692, 'USC00519397', '2017-07-20', 1.24, 80.0)\n",
      "(5421, 'USC00513117', '2017-07-19', 0.41000000000000003, 78.0)\n",
      "(2691, 'USC00519397', '2017-07-18', 2.53, 80.0)\n",
      "(2690, 'USC00519397', '2017-07-17', 0.91, 80.0)\n",
      "(2689, 'USC00519397', '2017-07-16', 0.81, 78.0)\n",
      "(2688, 'USC00519397', '2017-07-15', 0.19, 80.0)\n",
      "(2687, 'USC00519397', '2017-07-14', 0.9500000000000001, 81.0)\n",
      "(2686, 'USC00519397', '2017-07-13', 1.81, 79.0)\n",
      "(2685, 'USC00519397', '2017-07-12', 0.36000000000000004, 81.0)\n",
      "(2684, 'USC00519397', '2017-07-11', 0.03, 78.0)\n",
      "(2683, 'USC00519397', '2017-07-10', 0.04, 80.0)\n",
      "(2682, 'USC00519397', '2017-07-09', 0.2, 80.0)\n",
      "(2681, 'USC00519397', '2017-07-08', 0.1, 80.0)\n",
      "(2680, 'USC00519397', '2017-07-07', 0.5, 79.0)\n",
      "(2679, 'USC00519397', '2017-07-06', 0.02, 81.0)\n",
      "(2678, 'USC00519397', '2017-07-05', 0.0, 80.0)\n",
      "(2677, 'USC00519397', '2017-07-04', 0.15000000000000002, 80.0)\n",
      "(2676, 'USC00519397', '2017-07-03', 0.74, 78.0)\n",
      "(2675, 'USC00519397', '2017-07-02', 0.72, 80.0)\n",
      "(2674, 'USC00519397', '2017-07-01', 0.26, 80.0)\n",
      "(2673, 'USC00519397', '2017-06-30', 0.52, 75.0)\n",
      "(2672, 'USC00519397', '2017-06-29', 0.07, 79.0)\n",
      "(2671, 'USC00519397', '2017-06-28', 0.03, 79.0)\n",
      "(2670, 'USC00519397', '2017-06-27', 0.11, 80.0)\n",
      "(2669, 'USC00519397', '2017-06-26', 0.1, 81.0)\n",
      "(2668, 'USC00519397', '2017-06-25', 0.6, 80.0)\n",
      "(2667, 'USC00519397', '2017-06-24', 0.64, 80.0)\n",
      "(2666, 'USC00519397', '2017-06-23', 0.6699999999999999, 78.0)\n",
      "(2665, 'USC00519397', '2017-06-22', 0.44000000000000006, 80.0)\n",
      "(2664, 'USC00519397', '2017-06-21', 0.51, 79.0)\n",
      "(2663, 'USC00519397', '2017-06-20', 0.55, 78.0)\n",
      "(2662, 'USC00519397', '2017-06-19', 0.73, 80.0)\n",
      "(2661, 'USC00519397', '2017-06-18', 1.42, 77.0)\n",
      "(2660, 'USC00519397', '2017-06-17', 0.54, 80.0)\n",
      "(2659, 'USC00519397', '2017-06-16', 0.2, 79.0)\n",
      "(2658, 'USC00519397', '2017-06-15', 2.71, 78.0)\n",
      "(2657, 'USC00519397', '2017-06-14', 1.57, 80.0)\n",
      "(2656, 'USC00519397', '2017-06-13', 1.38, 80.0)\n",
      "(2655, 'USC00519397', '2017-06-12', 1.75, 83.0)\n",
      "(2654, 'USC00519397', '2017-06-11', 2.15, 79.0)\n",
      "(2653, 'USC00519397', '2017-06-10', 1.53, 77.0)\n",
      "(2652, 'USC00519397', '2017-06-09', 0.04, 80.0)\n",
      "(2651, 'USC00519397', '2017-06-08', 0.03, 80.0)\n",
      "(2650, 'USC00519397', '2017-06-07', 0.01, 79.0)\n",
      "(2649, 'USC00519397', '2017-06-06', 0.0, 79.0)\n",
      "(2648, 'USC00519397', '2017-06-05', 0.08, 80.0)\n",
      "(2647, 'USC00519397', '2017-06-04', 1.15, 79.0)\n",
      "(2646, 'USC00519397', '2017-06-03', 0.61, 79.0)\n",
      "(2645, 'USC00519397', '2017-06-02', 0.33999999999999997, 79.0)\n",
      "(2644, 'USC00519397', '2017-06-01', 0.04, 79.0)\n",
      "(2643, 'USC00519397', '2017-05-31', 0.37, 79.0)\n",
      "(2642, 'USC00519397', '2017-05-30', 1.73, 76.0)\n",
      "(2641, 'USC00519397', '2017-05-29', 0.42000000000000004, 75.0)\n",
      "(2640, 'USC00519397', '2017-05-28', 0.41000000000000003, 76.0)\n",
      "(2639, 'USC00519397', '2017-05-27', 0.51, 74.0)\n",
      "(5367, 'USC00513117', '2017-05-26', 0.02, 73.0)\n",
      "(2638, 'USC00519397', '2017-05-25', 2.22, 77.0)\n",
      "(2637, 'USC00519397', '2017-05-24', 3.8899999999999997, 77.0)\n",
      "(2636, 'USC00519397', '2017-05-23', 0.71, 87.0)\n",
      "(2635, 'USC00519397', '2017-05-22', 0.36, 77.0)\n",
      "(2634, 'USC00519397', '2017-05-21', 0.01, 76.0)\n",
      "(2633, 'USC00519397', '2017-05-20', 0.03, 78.0)\n",
      "(2632, 'USC00519397', '2017-05-19', 0.04, 76.0)\n",
      "(2631, 'USC00519397', '2017-05-18', 0.85, 73.0)\n",
      "(2630, 'USC00519397', '2017-05-17', 0.15000000000000002, 78.0)\n",
      "(2629, 'USC00519397', '2017-05-16', 0.42, 78.0)\n",
      "(2628, 'USC00519397', '2017-05-15', 0.88, 78.0)\n",
      "(2627, 'USC00519397', '2017-05-14', 1.22, 77.0)\n",
      "(2626, 'USC00519397', '2017-05-13', 0.24, 79.0)\n",
      "(2625, 'USC00519397', '2017-05-12', 0.16, 79.0)\n",
      "(2624, 'USC00519397', '2017-05-11', 0.6, 78.0)\n",
      "(2623, 'USC00519397', '2017-05-10', 0.8600000000000001, 78.0)\n",
      "(5350, 'USC00513117', '2017-05-09', 4.630000000000001, 74.0)\n",
      "(2622, 'USC00519397', '2017-05-08', 3.01, 77.0)\n",
      "(2621, 'USC00519397', '2017-05-07', 0.12000000000000001, 79.0)\n",
      "(2620, 'USC00519397', '2017-05-06', 0.06, 79.0)\n",
      "(2619, 'USC00519397', '2017-05-05', 0.38, 79.0)\n",
      "(2618, 'USC00519397', '2017-05-04', 0.08, 78.0)\n",
      "(2617, 'USC00519397', '2017-05-03', 0.03, 78.0)\n",
      "(2616, 'USC00519397', '2017-05-02', 0.05, 78.0)\n",
      "(2615, 'USC00519397', '2017-05-01', 0.81, 75.0)\n",
      "(2614, 'USC00519397', '2017-04-30', 6.42, 63.0)\n",
      "(2613, 'USC00519397', '2017-04-29', 8.04, 72.0)\n",
      "(2612, 'USC00519397', '2017-04-28', 4.24, 76.0)\n",
      "(2611, 'USC00519397', '2017-04-27', 0.42, 78.0)\n",
      "(2610, 'USC00519397', '2017-04-26', 0.39, 77.0)\n",
      "(2609, 'USC00519397', '2017-04-25', 0.0, 77.0)\n",
      "(2608, 'USC00519397', '2017-04-24', 0.060000000000000005, 77.0)\n",
      "(2607, 'USC00519397', '2017-04-23', 0.45999999999999996, 77.0)\n",
      "(2606, 'USC00519397', '2017-04-22', 4.960000000000001, 76.0)\n",
      "(2605, 'USC00519397', '2017-04-21', 8.38, 73.0)\n",
      "(2604, 'USC00519397', '2017-04-20', 0.78, 78.0)\n",
      "(2603, 'USC00519397', '2017-04-19', 0.2, 74.0)\n",
      "(2602, 'USC00519397', '2017-04-18', 3.36, 75.0)\n",
      "(2601, 'USC00519397', '2017-04-17', 3.0700000000000003, 74.0)\n",
      "(2600, 'USC00519397', '2017-04-16', 1.07, 74.0)\n",
      "(2599, 'USC00519397', '2017-04-15', 1.7400000000000002, 73.0)\n",
      "(2598, 'USC00519397', '2017-04-14', 6.72, 75.0)\n",
      "(2597, 'USC00519397', '2017-04-13', 1.09, 77.0)\n",
      "(2596, 'USC00519397', '2017-04-12', 1.08, 78.0)\n",
      "(2595, 'USC00519397', '2017-04-11', 0.47, 79.0)\n",
      "(2594, 'USC00519397', '2017-04-10', 0.02, 75.0)\n",
      "(2593, 'USC00519397', '2017-04-09', 0.0, 72.0)\n",
      "(2592, 'USC00519397', '2017-04-08', 0.0, 77.0)\n",
      "(2591, 'USC00519397', '2017-04-07', 0.0, 77.0)\n",
      "(2590, 'USC00519397', '2017-04-06', 0.06, 77.0)\n",
      "(2589, 'USC00519397', '2017-04-05', 0.66, 78.0)\n",
      "(2588, 'USC00519397', '2017-04-04', 0.15, 76.0)\n",
      "(2587, 'USC00519397', '2017-04-03', 0.66, 77.0)\n",
      "(2586, 'USC00519397', '2017-04-02', 0.0, 76.0)\n",
      "(2585, 'USC00519397', '2017-04-01', 0.41000000000000003, 76.0)\n",
      "(2584, 'USC00519397', '2017-03-31', 0.01, 76.0)\n",
      "(2583, 'USC00519397', '2017-03-30', 0.15, 77.0)\n",
      "(2582, 'USC00519397', '2017-03-29', 0.19, 76.0)\n",
      "(2581, 'USC00519397', '2017-03-28', 0.7100000000000001, 77.0)\n",
      "(2580, 'USC00519397', '2017-03-27', 0.01, 75.0)\n",
      "(2579, 'USC00519397', '2017-03-26', 0.0, 76.0)\n",
      "(2578, 'USC00519397', '2017-03-25', 1.9700000000000002, 76.0)\n",
      "(2577, 'USC00519397', '2017-03-24', 1.1300000000000001, 73.0)\n",
      "(2576, 'USC00519397', '2017-03-23', 0.05, 70.0)\n",
      "(2575, 'USC00519397', '2017-03-22', 0.0, 74.0)\n",
      "(2574, 'USC00519397', '2017-03-21', 0.09, 75.0)\n",
      "(2573, 'USC00519397', '2017-03-20', 0.02, 75.0)\n",
      "(2572, 'USC00519397', '2017-03-19', 0.0, 73.0)\n",
      "(2571, 'USC00519397', '2017-03-18', 0.0, 69.0)\n",
      "(2570, 'USC00519397', '2017-03-17', 0.72, 72.0)\n",
      "(2569, 'USC00519397', '2017-03-16', 0.0, 70.0)\n",
      "(2568, 'USC00519397', '2017-03-15', 0.06, 71.0)\n",
      "(2567, 'USC00519397', '2017-03-14', 0.06, 71.0)\n",
      "(2566, 'USC00519397', '2017-03-13', 0.0, 71.0)\n",
      "(2565, 'USC00519397', '2017-03-12', 0.0, 74.0)\n",
      "(2564, 'USC00519397', '2017-03-11', 0.04, 71.0)\n",
      "(2563, 'USC00519397', '2017-03-10', 0.29000000000000004, 68.0)\n",
      "(2562, 'USC00519397', '2017-03-09', 1.9600000000000002, 72.0)\n",
      "(2561, 'USC00519397', '2017-03-08', 0.0, 71.0)\n",
      "(2560, 'USC00519397', '2017-03-07', 0.0, 68.0)\n",
      "(2559, 'USC00519397', '2017-03-06', 0.54, 69.0)\n",
      "(2558, 'USC00519397', '2017-03-05', 1.21, 71.0)\n",
      "(2557, 'USC00519397', '2017-03-04', 0.0, 74.0)\n",
      "(2556, 'USC00519397', '2017-03-03', 2.23, 69.0)\n",
      "(2555, 'USC00519397', '2017-03-02', 6.56, 73.0)\n",
      "(2554, 'USC00519397', '2017-03-01', 11.620000000000001, 66.0)\n",
      "(2553, 'USC00519397', '2017-02-28', 0.82, 74.0)\n",
      "(2552, 'USC00519397', '2017-02-27', 0.0, 72.0)\n",
      "(2551, 'USC00519397', '2017-02-26', 0.0, 65.0)\n",
      "(2550, 'USC00519397', '2017-02-25', 0.15, 64.0)\n",
      "(2549, 'USC00519397', '2017-02-24', 0.0, 70.0)\n",
      "(2548, 'USC00519397', '2017-02-23', 0.01, 74.0)\n",
      "(2547, 'USC00519397', '2017-02-22', 0.9100000000000001, 72.0)\n",
      "(2546, 'USC00519397', '2017-02-21', 0.13, 70.0)\n",
      "(2545, 'USC00519397', '2017-02-20', 0.0, 71.0)\n",
      "(2544, 'USC00519397', '2017-02-19', 0.19, 69.0)\n",
      "(2543, 'USC00519397', '2017-02-18', 0.01, 68.0)\n",
      "(2542, 'USC00519397', '2017-02-17', 1.0500000000000003, 71.0)\n",
      "(2541, 'USC00519397', '2017-02-16', 2.2199999999999998, 71.0)\n",
      "(2540, 'USC00519397', '2017-02-15', 0.08, 75.0)\n",
      "(2539, 'USC00519397', '2017-02-14', 0.01, 75.0)\n",
      "(2538, 'USC00519397', '2017-02-13', 2.9199999999999995, 74.0)\n",
      "(2537, 'USC00519397', '2017-02-12', 10.48, 68.0)\n",
      "(2536, 'USC00519397', '2017-02-11', 11.200000000000001, 69.0)\n",
      "(2535, 'USC00519397', '2017-02-10', 0.0, 71.0)\n",
      "(2534, 'USC00519397', '2017-02-09', 0.02, 61.0)\n",
      "(2533, 'USC00519397', '2017-02-08', 1.08, 62.0)\n",
      "(2532, 'USC00519397', '2017-02-07', 7.4, 64.0)\n",
      "(2531, 'USC00519397', '2017-02-06', 0.38, 76.0)\n",
      "(2530, 'USC00519397', '2017-02-05', 0.0, 73.0)\n",
      "(2529, 'USC00519397', '2017-02-04', 0.0, 72.0)\n",
      "(2528, 'USC00519397', '2017-02-03', 0.0, 65.0)\n",
      "(2527, 'USC00519397', '2017-02-02', 0.0, 61.0)\n",
      "(2526, 'USC00519397', '2017-02-01', 0.0, 70.0)\n",
      "(2525, 'USC00519397', '2017-01-31', 0.0, 68.0)\n",
      "(2524, 'USC00519397', '2017-01-30', 0.05, 67.0)\n",
      "(2523, 'USC00519397', '2017-01-29', 0.99, 67.0)\n",
      "(2522, 'USC00519397', '2017-01-28', 0.14, 64.0)\n",
      "(2521, 'USC00519397', '2017-01-27', 0.06, 65.0)\n",
      "(2520, 'USC00519397', '2017-01-26', 0.11, 71.0)\n",
      "(2519, 'USC00519397', '2017-01-25', 3.58, 72.0)\n",
      "(2518, 'USC00519397', '2017-01-24', 2.25, 69.0)\n",
      "(2517, 'USC00519397', '2017-01-23', 0.94, 72.0)\n",
      "(2516, 'USC00519397', '2017-01-22', 1.02, 72.0)\n",
      "(2515, 'USC00519397', '2017-01-21', 0.27999999999999997, 72.0)\n",
      "(2514, 'USC00519397', '2017-01-20', 0.0, 71.0)\n",
      "(2513, 'USC00519397', '2017-01-19', 0.02, 73.0)\n",
      "(2512, 'USC00519397', '2017-01-18', 0.07, 72.0)\n",
      "(2511, 'USC00519397', '2017-01-17', 0.0, 66.0)\n",
      "(2510, 'USC00519397', '2017-01-16', 0.0, 67.0)\n",
      "(2509, 'USC00519397', '2017-01-15', 0.01, 66.0)\n",
      "(2508, 'USC00519397', '2017-01-14', 0.01, 65.0)\n",
      "(2507, 'USC00519397', '2017-01-13', 0.0, 67.0)\n",
      "(2506, 'USC00519397', '2017-01-12', 0.0, 67.0)\n",
      "(2505, 'USC00519397', '2017-01-11', 0.0, 78.0)\n",
      "(2504, 'USC00519397', '2017-01-10', 0.0, 63.0)\n",
      "(2503, 'USC00519397', '2017-01-09', 0.0, 64.0)\n",
      "(2502, 'USC00519397', '2017-01-08', 0.06, 60.0)\n",
      "(2501, 'USC00519397', '2017-01-07', 0.06, 66.0)\n",
      "(2500, 'USC00519397', '2017-01-06', 0.7999999999999999, 64.0)\n",
      "(2499, 'USC00519397', '2017-01-05', 0.95, 63.0)\n",
      "(2498, 'USC00519397', '2017-01-04', 0.18, 62.0)\n",
      "(2497, 'USC00519397', '2017-01-03', 0.0, 63.0)\n",
      "(2496, 'USC00519397', '2017-01-02', 0.02, 66.0)\n",
      "(2495, 'USC00519397', '2017-01-01', 0.35, 62.0)\n",
      "(2494, 'USC00519397', '2016-12-31', 2.14, 66.0)\n",
      "(2493, 'USC00519397', '2016-12-30', 3.35, 69.0)\n",
      "(2492, 'USC00519397', '2016-12-29', 2.38, 73.0)\n",
      "(2491, 'USC00519397', '2016-12-28', 0.41000000000000003, 71.0)\n",
      "(2490, 'USC00519397', '2016-12-27', 0.24000000000000002, 74.0)\n",
      "(2489, 'USC00519397', '2016-12-26', 2.04, 74.0)\n",
      "(2488, 'USC00519397', '2016-12-25', 0.43, 74.0)\n",
      "(2487, 'USC00519397', '2016-12-24', 1.62, 74.0)\n",
      "(2486, 'USC00519397', '2016-12-23', 1.23, 72.0)\n",
      "(2485, 'USC00519397', '2016-12-22', 2.4699999999999998, 71.0)\n",
      "(2484, 'USC00519397', '2016-12-21', 0.9, 74.0)\n",
      "(2483, 'USC00519397', '2016-12-20', 0.03, 77.0)\n",
      "(2482, 'USC00519397', '2016-12-19', 0.42000000000000004, 69.0)\n",
      "(2481, 'USC00519397', '2016-12-18', 0.89, 73.0)\n",
      "(2480, 'USC00519397', '2016-12-17', 0.35000000000000003, 71.0)\n",
      "(2479, 'USC00519397', '2016-12-16', 0.04, 62.0)\n",
      "(2478, 'USC00519397', '2016-12-15', 0.26, 66.0)\n",
      "(2477, 'USC00519397', '2016-12-14', 1.5, 70.0)\n",
      "(2476, 'USC00519397', '2016-12-13', 0.77, 67.0)\n",
      "(2475, 'USC00519397', '2016-12-12', 0.05, 66.0)\n",
      "(2474, 'USC00519397', '2016-12-11', 0.25, 70.0)\n",
      "(2473, 'USC00519397', '2016-12-10', 0.13, 70.0)\n",
      "(2472, 'USC00519397', '2016-12-09', 1.85, 70.0)\n",
      "(2471, 'USC00519397', '2016-12-08', 0.4600000000000001, 73.0)\n",
      "(2470, 'USC00519397', '2016-12-07', 0.38, 69.0)\n",
      "(2469, 'USC00519397', '2016-12-06', 0.04, 67.0)\n",
      "(2468, 'USC00519397', '2016-12-05', 3.24, 68.0)\n",
      "(2467, 'USC00519397', '2016-12-04', 0.8, 71.0)\n",
      "(2466, 'USC00519397', '2016-12-03', 2.71, 69.0)\n",
      "(2465, 'USC00519397', '2016-12-02', 2.36, 72.0)\n",
      "(2464, 'USC00519397', '2016-12-01', 1.77, 75.0)\n",
      "(2463, 'USC00519397', '2016-11-30', 1.06, 75.0)\n",
      "(2462, 'USC00519397', '2016-11-29', 0.43000000000000005, 68.0)\n",
      "(2461, 'USC00519397', '2016-11-28', 0.72, 75.0)\n",
      "(2460, 'USC00519397', '2016-11-27', 0.55, 76.0)\n",
      "(2459, 'USC00519397', '2016-11-26', 0.51, 73.0)\n",
      "(2458, 'USC00519397', '2016-11-25', 1.32, 75.0)\n",
      "(2457, 'USC00519397', '2016-11-24', 1.48, 74.0)\n",
      "(2456, 'USC00519397', '2016-11-23', 0.67, 72.0)\n",
      "(2455, 'USC00519397', '2016-11-22', 5.01, 75.0)\n",
      "(2454, 'USC00519397', '2016-11-21', 3.08, 76.0)\n",
      "(2453, 'USC00519397', '2016-11-20', 0.9500000000000001, 76.0)\n",
      "(2452, 'USC00519397', '2016-11-19', 0.38, 75.0)\n",
      "(2451, 'USC00519397', '2016-11-18', 0.03, 77.0)\n",
      "(2450, 'USC00519397', '2016-11-17', 0.06, 77.0)\n",
      "(2449, 'USC00519397', '2016-11-16', 1.54, 77.0)\n",
      "(2448, 'USC00519397', '2016-11-15', 0.05, 77.0)\n",
      "(2447, 'USC00519397', '2016-11-14', 0.15, 77.0)\n",
      "(2446, 'USC00519397', '2016-11-13', 0.0, 72.0)\n",
      "(2445, 'USC00519397', '2016-11-12', 0.0, 71.0)\n",
      "(2444, 'USC00519397', '2016-11-11', 0.0, 72.0)\n",
      "(2443, 'USC00519397', '2016-11-10', 0.01, 71.0)\n",
      "(2442, 'USC00519397', '2016-11-09', 0.39999999999999997, 71.0)\n",
      "(2441, 'USC00519397', '2016-11-08', 1.12, 71.0)\n",
      "(2440, 'USC00519397', '2016-11-07', 0.18, 71.0)\n",
      "(2439, 'USC00519397', '2016-11-06', 0.08, 75.0)\n",
      "(2438, 'USC00519397', '2016-11-05', 0.45, 76.0)\n",
      "(2437, 'USC00519397', '2016-11-04', 0.06, 77.0)\n",
      "(2436, 'USC00519397', '2016-11-03', 0.02, 77.0)\n",
      "(2435, 'USC00519397', '2016-11-02', 0.04, 77.0)\n",
      "(2434, 'USC00519397', '2016-11-01', 0.21000000000000002, 77.0)\n",
      "(2433, 'USC00519397', '2016-10-31', 1.61, 77.0)\n",
      "(2432, 'USC00519397', '2016-10-30', 1.5899999999999999, 76.0)\n",
      "(2431, 'USC00519397', '2016-10-29', 0.64, 77.0)\n",
      "(2430, 'USC00519397', '2016-10-28', 0.5700000000000001, 78.0)\n",
      "(2429, 'USC00519397', '2016-10-27', 1.8599999999999999, 77.0)\n",
      "(2428, 'USC00519397', '2016-10-26', 0.29000000000000004, 78.0)\n",
      "(2427, 'USC00519397', '2016-10-25', 1.1, 77.0)\n",
      "(2426, 'USC00519397', '2016-10-24', 0.7899999999999999, 77.0)\n",
      "(2425, 'USC00519397', '2016-10-23', 0.27999999999999997, 78.0)\n",
      "(2424, 'USC00519397', '2016-10-22', 1.77, 79.0)\n",
      "(2423, 'USC00519397', '2016-10-21', 0.32, 77.0)\n",
      "(2422, 'USC00519397', '2016-10-20', 1.01, 79.0)\n",
      "(2421, 'USC00519397', '2016-10-19', 0.16999999999999998, 81.0)\n",
      "(2420, 'USC00519397', '2016-10-18', 0.6, 80.0)\n",
      "(2419, 'USC00519397', '2016-10-17', 0.55, 78.0)\n",
      "(2418, 'USC00519397', '2016-10-16', 0.0, 78.0)\n",
      "(2417, 'USC00519397', '2016-10-15', 0.39, 79.0)\n",
      "(2416, 'USC00519397', '2016-10-14', 0.0, 80.0)\n",
      "(2415, 'USC00519397', '2016-10-13', 0.08, 79.0)\n",
      "(2414, 'USC00519397', '2016-10-12', 0.08, 80.0)\n",
      "(2413, 'USC00519397', '2016-10-11', 0.69, 80.0)\n",
      "(2412, 'USC00519397', '2016-10-10', 0.0, 75.0)\n",
      "(2411, 'USC00519397', '2016-10-09', 0.0, 76.0)\n",
      "(2410, 'USC00519397', '2016-10-08', 0.04, 78.0)\n",
      "(2409, 'USC00519397', '2016-10-07', 0.01, 79.0)\n",
      "(2408, 'USC00519397', '2016-10-06', 0.16, 80.0)\n",
      "(2407, 'USC00519397', '2016-10-05', 0.8200000000000001, 80.0)\n",
      "(2406, 'USC00519397', '2016-10-04', 3.4899999999999998, 79.0)\n",
      "(2405, 'USC00519397', '2016-10-03', 0.6900000000000001, 79.0)\n",
      "(2404, 'USC00519397', '2016-10-02', 0.72, 79.0)\n",
      "(2403, 'USC00519397', '2016-10-01', 1.4500000000000002, 80.0)\n",
      "(2402, 'USC00519397', '2016-09-30', 1.15, 80.0)\n",
      "(2401, 'USC00519397', '2016-09-29', 2.99, 80.0)\n",
      "(2400, 'USC00519397', '2016-09-28', 0.13, 79.0)\n",
      "(2399, 'USC00519397', '2016-09-27', 1.3599999999999999, 80.0)\n",
      "(2398, 'USC00519397', '2016-09-26', 1.67, 80.0)\n",
      "(2397, 'USC00519397', '2016-09-25', 0.09, 78.0)\n",
      "(2396, 'USC00519397', '2016-09-24', 0.28, 81.0)\n",
      "(2395, 'USC00519397', '2016-09-23', 1.57, 82.0)\n",
      "(2394, 'USC00519397', '2016-09-22', 1.44, 76.0)\n",
      "(2393, 'USC00519397', '2016-09-21', 1.17, 78.0)\n",
      "(2392, 'USC00519397', '2016-09-20', 1.03, 77.0)\n",
      "(2391, 'USC00519397', '2016-09-19', 0.32, 77.0)\n",
      "(2390, 'USC00519397', '2016-09-18', 0.53, 81.0)\n",
      "(2389, 'USC00519397', '2016-09-17', 0.6799999999999999, 79.0)\n",
      "(2388, 'USC00519397', '2016-09-16', 0.8200000000000001, 80.0)\n",
      "(2387, 'USC00519397', '2016-09-15', 4.96, 79.0)\n",
      "(2386, 'USC00519397', '2016-09-14', 14.280000000000001, 75.0)\n",
      "(2385, 'USC00519397', '2016-09-13', 2.71, 78.0)\n",
      "(2384, 'USC00519397', '2016-09-12', 1.54, 78.0)\n",
      "(2383, 'USC00519397', '2016-09-11', 1.25, 76.0)\n",
      "(2382, 'USC00519397', '2016-09-10', 1.4, 78.0)\n",
      "(2381, 'USC00519397', '2016-09-09', 1.0699999999999998, 79.0)\n",
      "(2380, 'USC00519397', '2016-09-08', 0.4600000000000001, 80.0)\n",
      "(2379, 'USC00519397', '2016-09-07', 2.0, 76.0)\n",
      "(5105, 'USC00513117', '2016-09-06', 1.23, 74.0)\n",
      "(5104, 'USC00513117', '2016-09-05', 0.33999999999999997, 78.0)\n",
      "(2376, 'USC00519397', '2016-09-04', 1.3800000000000001, 75.0)\n",
      "(2375, 'USC00519397', '2016-09-03', 1.27, 79.0)\n",
      "(2374, 'USC00519397', '2016-09-02', 0.25, 80.0)\n",
      "(2373, 'USC00519397', '2016-09-01', 0.03, 81.0)\n",
      "(2372, 'USC00519397', '2016-08-31', 3.1799999999999997, 80.0)\n",
      "(2371, 'USC00519397', '2016-08-30', 0.07, 79.0)\n",
      "(2370, 'USC00519397', '2016-08-29', 1.46, 78.0)\n",
      "(2369, 'USC00519397', '2016-08-28', 3.0999999999999996, 78.0)\n",
      "(2368, 'USC00519397', '2016-08-27', 0.31999999999999995, 77.0)\n",
      "(2367, 'USC00519397', '2016-08-26', 0.09999999999999999, 79.0)\n",
      "(2366, 'USC00519397', '2016-08-25', 0.54, 80.0)\n",
      "(2365, 'USC00519397', '2016-08-24', 9.329999999999998, 79.0)\n",
      "(2364, 'USC00519397', '2016-08-23', 2.71, 81.0)\n"
     ]
    }
   ],
   "source": [
    "# Design a query to retrieve the last 12 months of precipitation data and plot the results\n",
    "\n",
    "results_12_months = session.query(Measurement.id, Measurement.station, Measurement.date, func.sum(Measurement.prcp), \\\n",
    "    Measurement.tobs).\\\n",
    "    filter(Measurement.date > date).filter(Measurement.prcp != None).\\\n",
    "    group_by(Measurement.date).\\\n",
    "    order_by(Measurement.date.desc()).all()\n",
    "\n",
    "for row in results_12_months:\n",
    "    print(row)"
   ]
  },
  {
   "cell_type": "code",
   "execution_count": 20,
   "metadata": {},
   "outputs": [],
   "source": [
    "# Perform a query to retrieve the data and precipitation scores\n",
    "# Unpack the date and `precp` from results and save into separate lists\n",
    "date_12 = [data[2] for data in results_12_months[:]]\n",
    "prcp_12 = [float(data[3]) for data in results_12_months[:]]"
   ]
  },
  {
   "cell_type": "code",
   "execution_count": 21,
   "metadata": {},
   "outputs": [
    {
     "data": {
      "text/html": [
       "<div>\n",
       "<style scoped>\n",
       "    .dataframe tbody tr th:only-of-type {\n",
       "        vertical-align: middle;\n",
       "    }\n",
       "\n",
       "    .dataframe tbody tr th {\n",
       "        vertical-align: top;\n",
       "    }\n",
       "\n",
       "    .dataframe thead th {\n",
       "        text-align: right;\n",
       "    }\n",
       "</style>\n",
       "<table border=\"1\" class=\"dataframe\">\n",
       "  <thead>\n",
       "    <tr style=\"text-align: right;\">\n",
       "      <th></th>\n",
       "      <th>precipitation</th>\n",
       "    </tr>\n",
       "    <tr>\n",
       "      <th>date</th>\n",
       "      <th></th>\n",
       "    </tr>\n",
       "  </thead>\n",
       "  <tbody>\n",
       "    <tr>\n",
       "      <th>2017-08-23</th>\n",
       "      <td>0.53</td>\n",
       "    </tr>\n",
       "    <tr>\n",
       "      <th>2017-08-22</th>\n",
       "      <td>0.50</td>\n",
       "    </tr>\n",
       "    <tr>\n",
       "      <th>2017-08-21</th>\n",
       "      <td>0.58</td>\n",
       "    </tr>\n",
       "    <tr>\n",
       "      <th>2017-08-20</th>\n",
       "      <td>0.01</td>\n",
       "    </tr>\n",
       "    <tr>\n",
       "      <th>2017-08-19</th>\n",
       "      <td>0.09</td>\n",
       "    </tr>\n",
       "  </tbody>\n",
       "</table>\n",
       "</div>"
      ],
      "text/plain": [
       "            precipitation\n",
       "date                     \n",
       "2017-08-23           0.53\n",
       "2017-08-22           0.50\n",
       "2017-08-21           0.58\n",
       "2017-08-20           0.01\n",
       "2017-08-19           0.09"
      ]
     },
     "execution_count": 21,
     "metadata": {},
     "output_type": "execute_result"
    }
   ],
   "source": [
    "# Save the query results as a Pandas DataFrame and set the index to the date column\n",
    "\n",
    "df_prcp = pd.DataFrame({'precipitation':prcp_12, 'date':date_12})\n",
    "\n",
    "df_prcp.set_index('date', inplace=True )\n",
    "# Sort the dataframe by date\n",
    "df_prcp.sort_values(by=['date'])\n",
    "df_prcp.head()"
   ]
  },
  {
   "cell_type": "markdown",
   "metadata": {},
   "source": [
    "# Precipitation Analysis"
   ]
  },
  {
   "cell_type": "code",
   "execution_count": 23,
   "metadata": {},
   "outputs": [
    {
     "data": {
      "image/png": "[encoded data removed]",
      "text/plain": [
       "<Figure size 720x432 with 1 Axes>"
      ]
     },
     "metadata": {
      "needs_background": "light"
     },
     "output_type": "display_data"
    }
   ],
   "source": [
    "# Use Pandas Plotting with Matplotlib to plot the data\n",
    "fig, ax = plt.subplots(figsize=(10, 6))\n",
    "ax.bar(df_prcp.index, df_prcp.precipitation)\n",
    "ax.get_xaxis().set_ticks([])\n",
    "ax.set(xlabel='Date', ylabel='Inch',title = 'Precipitation at Hawaii')\n",
    "prcp_patch = mpatches.Patch(color='skyblue', label='Precipitation')\n",
    "plt.legend(handles=[prcp_patch])\n",
    "plt.savefig(\"Images/prcp.png\")"
   ]
  },
  {
   "cell_type": "markdown",
   "metadata": {},
   "source": [
    "# Station Analysis"
   ]
  },
  {
   "cell_type": "code",
   "execution_count": 24,
   "metadata": {},
   "outputs": [],
   "source": [
    "#Use Pandas to print the summary statistics for the precipitation data.\n",
    "results = session.query(Measurement.id, Measurement.station, Measurement.date, Measurement.prcp, Measurement.tobs).\\\n",
    "    filter(Measurement.date > date).filter(Measurement.prcp != None).\\\n",
    "    order_by(Measurement.date.desc()).all()\n",
    "\n",
    "date_all = [data[2] for data in results[:]]\n",
    "prcp_all = [float(data[3]) for data in results[:]]"
   ]
  },
  {
   "cell_type": "code",
   "execution_count": 25,
   "metadata": {},
   "outputs": [],
   "source": [
    "df_all = pd.DataFrame({'precipitation':prcp_all}, index=date_all)"
   ]
  },
  {
   "cell_type": "code",
   "execution_count": 26,
   "metadata": {},
   "outputs": [
    {
     "data": {
      "text/html": [
       "<div>\n",
       "<style scoped>\n",
       "    .dataframe tbody tr th:only-of-type {\n",
       "        vertical-align: middle;\n",
       "    }\n",
       "\n",
       "    .dataframe tbody tr th {\n",
       "        vertical-align: top;\n",
       "    }\n",
       "\n",
       "    .dataframe thead th {\n",
       "        text-align: right;\n",
       "    }\n",
       "</style>\n",
       "<table border=\"1\" class=\"dataframe\">\n",
       "  <thead>\n",
       "    <tr style=\"text-align: right;\">\n",
       "      <th></th>\n",
       "      <th>precipitation</th>\n",
       "    </tr>\n",
       "  </thead>\n",
       "  <tbody>\n",
       "    <tr>\n",
       "      <th>count</th>\n",
       "      <td>2021.000000</td>\n",
       "    </tr>\n",
       "    <tr>\n",
       "      <th>mean</th>\n",
       "      <td>0.177279</td>\n",
       "    </tr>\n",
       "    <tr>\n",
       "      <th>std</th>\n",
       "      <td>0.461190</td>\n",
       "    </tr>\n",
       "    <tr>\n",
       "      <th>min</th>\n",
       "      <td>0.000000</td>\n",
       "    </tr>\n",
       "    <tr>\n",
       "      <th>25%</th>\n",
       "      <td>0.000000</td>\n",
       "    </tr>\n",
       "    <tr>\n",
       "      <th>50%</th>\n",
       "      <td>0.020000</td>\n",
       "    </tr>\n",
       "    <tr>\n",
       "      <th>75%</th>\n",
       "      <td>0.130000</td>\n",
       "    </tr>\n",
       "    <tr>\n",
       "      <th>max</th>\n",
       "      <td>6.700000</td>\n",
       "    </tr>\n",
       "  </tbody>\n",
       "</table>\n",
       "</div>"
      ],
      "text/plain": [
       "       precipitation\n",
       "count    2021.000000\n",
       "mean        0.177279\n",
       "std         0.461190\n",
       "min         0.000000\n",
       "25%         0.000000\n",
       "50%         0.020000\n",
       "75%         0.130000\n",
       "max         6.700000"
      ]
     },
     "execution_count": 26,
     "metadata": {},
     "output_type": "execute_result"
    }
   ],
   "source": [
    "summary=df_all.describe()\n",
    "summary"
   ]
  },
  {
   "cell_type": "code",
   "execution_count": 27,
   "metadata": {},
   "outputs": [
    {
     "data": {
      "image/png": "[encoded data removed]",
      "text/plain": [
       "<Figure size 432x288 with 1 Axes>"
      ]
     },
     "metadata": {
      "needs_background": "light"
     },
     "output_type": "display_data"
    }
   ],
   "source": [
    "plot = plt.subplot(111, frame_on=False)\n",
    "#remove axis\n",
    "plot.xaxis.set_visible(False) \n",
    "plot.yaxis.set_visible(False)\n",
    "#create the table plot and position it in the upper left corner\n",
    "table(plot, summary,loc='upper right')\n",
    "\n",
    "#save the plot as a png file\n",
    "plt.savefig('Images/desc_plot.png')"
   ]
  },
  {
   "cell_type": "code",
   "execution_count": 28,
   "metadata": {},
   "outputs": [],
   "source": [
    "# Design a query to show how many stations are available in this dataset?"
   ]
  },
  {
   "cell_type": "code",
   "execution_count": 29,
   "metadata": {},
   "outputs": [
    {
     "data": {
      "text/plain": [
       "9"
      ]
     },
     "execution_count": 29,
     "metadata": {},
     "output_type": "execute_result"
    }
   ],
   "source": [
    "session.query((Measurement.station)).\\\n",
    "    group_by(Measurement.station).\\\n",
    "    order_by(Measurement.station.desc()).count()"
   ]
  },
  {
   "cell_type": "code",
   "execution_count": 30,
   "metadata": {},
   "outputs": [
    {
     "data": {
      "text/plain": [
       "[('USC00519281', 2772),\n",
       " ('USC00519397', 2724),\n",
       " ('USC00513117', 2709),\n",
       " ('USC00519523', 2669),\n",
       " ('USC00516128', 2612),\n",
       " ('USC00514830', 2202),\n",
       " ('USC00511918', 1979),\n",
       " ('USC00517948', 1372),\n",
       " ('USC00518838', 511)]"
      ]
     },
     "execution_count": 30,
     "metadata": {},
     "output_type": "execute_result"
    }
   ],
   "source": [
    "# What are the most active stations? (i.e. what stations have the most rows)?\n",
    "# List the stations and the counts in descending order.\n",
    "session.query(Measurement.station,func.count(Measurement.station) ).\\\n",
    "    group_by(Measurement.station).\\\n",
    "    order_by(func.count(Measurement.station).desc()).all()"
   ]
  },
  {
   "cell_type": "code",
   "execution_count": 31,
   "metadata": {},
   "outputs": [
    {
     "name": "stdout",
     "output_type": "stream",
     "text": [
      "USC00519281\n"
     ]
    }
   ],
   "source": [
    "# Using the station id from the previous query, calculate the lowest temperature recorded, \n",
    "# highest temperature recorded, and average temperature most active station?\n",
    "\n",
    "# Find Most active station\n",
    "sta_list=session.query(Measurement.station,func.count(Measurement.station) ).\\\n",
    "    group_by(Measurement.station).\\\n",
    "    order_by(func.count(Measurement.station).desc()).all()\n",
    "top_sta=sta_list[0][0]\n",
    "print(top_sta)"
   ]
  },
  {
   "cell_type": "code",
   "execution_count": 32,
   "metadata": {},
   "outputs": [
    {
     "data": {
      "text/plain": [
       "[(54.0, 85.0, 71.66378066378067)]"
      ]
     },
     "execution_count": 32,
     "metadata": {},
     "output_type": "execute_result"
    }
   ],
   "source": [
    "session.query( func.min(Measurement.tobs), func.max(Measurement.tobs),func.avg(Measurement.tobs)).\\\n",
    "    filter(Measurement.station == top_sta).filter(Measurement.tobs != None).\\\n",
    "    order_by(Measurement.date.desc()).all()"
   ]
  },
  {
   "cell_type": "code",
   "execution_count": 33,
   "metadata": {},
   "outputs": [
    {
     "name": "stdout",
     "output_type": "stream",
     "text": [
      "USC00519281\n"
     ]
    }
   ],
   "source": [
    "# Choose the station with the highest number of temperature observations.\n",
    "sta_list=session.query(Measurement.station,func.count(Measurement.station) ).\\\n",
    "    group_by(Measurement.station).\\\n",
    "    order_by(func.count(Measurement.station).desc()).all()\n",
    "top_sta=sta_list[0][0]\n",
    "print(top_sta)"
   ]
  },
  {
   "cell_type": "code",
   "execution_count": 34,
   "metadata": {},
   "outputs": [
    {
     "data": {
      "text/plain": [
       "[(14959, 'USC00519281', '2017-08-18', 0.06, 79.0),\n",
       " (14958, 'USC00519281', '2017-08-17', 0.01, 76.0),\n",
       " (14957, 'USC00519281', '2017-08-16', 0.12, 76.0),\n",
       " (14956, 'USC00519281', '2017-08-15', 0.32, 77.0),\n",
       " (14955, 'USC00519281', '2017-08-14', 0.0, 77.0),\n",
       " (14954, 'USC00519281', '2017-08-13', 0.0, 77.0),\n",
       " (14953, 'USC00519281', '2017-08-06', 0.0, 83.0),\n",
       " (14952, 'USC00519281', '2017-08-05', 0.06, 82.0),\n",
       " (14951, 'USC00519281', '2017-08-04', 0.0, 77.0),\n",
       " (14950, 'USC00519281', '2017-07-31', 0.0, 76.0),\n",
       " (14949, 'USC00519281', '2017-07-30', 0.0, 81.0),\n",
       " (14948, 'USC00519281', '2017-07-29', 0.23, 82.0),\n",
       " (14947, 'USC00519281', '2017-07-28', 0.09, 81.0),\n",
       " (14946, 'USC00519281', '2017-07-27', 0.01, 76.0),\n",
       " (14945, 'USC00519281', '2017-07-26', 0.12, 75.0),\n",
       " (14944, 'USC00519281', '2017-07-25', 0.11, 77.0),\n",
       " (14943, 'USC00519281', '2017-07-24', 0.61, 75.0),\n",
       " (14942, 'USC00519281', '2017-07-23', 0.2, 82.0),\n",
       " (14941, 'USC00519281', '2017-07-22', 0.2, 77.0),\n",
       " (14940, 'USC00519281', '2017-07-21', 0.03, 77.0),\n",
       " (14939, 'USC00519281', '2017-07-20', 0.06, 77.0),\n",
       " (14938, 'USC00519281', '2017-07-19', 0.05, 76.0),\n",
       " (14937, 'USC00519281', '2017-07-18', 0.05, 76.0),\n",
       " (14936, 'USC00519281', '2017-07-17', 0.21, 76.0),\n",
       " (14935, 'USC00519281', '2017-07-16', 0.1, 80.0),\n",
       " (14934, 'USC00519281', '2017-07-15', 0.05, 80.0),\n",
       " (14933, 'USC00519281', '2017-07-14', 0.2, 76.0),\n",
       " (14932, 'USC00519281', '2017-07-13', 0.32, 74.0),\n",
       " (14931, 'USC00519281', '2017-07-12', 0.28, 74.0),\n",
       " (14930, 'USC00519281', '2017-07-11', 0.02, 72.0),\n",
       " (14929, 'USC00519281', '2017-07-10', 0.02, 69.0),\n",
       " (14928, 'USC00519281', '2017-07-09', 0.11, 78.0),\n",
       " (14927, 'USC00519281', '2017-07-08', 0.0, 78.0),\n",
       " (14926, 'USC00519281', '2017-07-07', 0.18, 75.0),\n",
       " (14925, 'USC00519281', '2017-07-06', 0.0, 74.0),\n",
       " (14924, 'USC00519281', '2017-07-05', 0.0, 77.0),\n",
       " (14923, 'USC00519281', '2017-07-04', 0.08, 78.0),\n",
       " (14922, 'USC00519281', '2017-07-03', 0.15, 76.0),\n",
       " (14921, 'USC00519281', '2017-07-02', 0.15, 81.0),\n",
       " (14920, 'USC00519281', '2017-07-01', 0.08, 79.0),\n",
       " (14919, 'USC00519281', '2017-06-30', 0.01, 76.0),\n",
       " (14918, 'USC00519281', '2017-06-29', 0.0, 76.0),\n",
       " (14917, 'USC00519281', '2017-06-28', 0.0, 77.0),\n",
       " (14916, 'USC00519281', '2017-06-27', 0.01, 76.0),\n",
       " (14915, 'USC00519281', '2017-06-26', 0.06, 73.0),\n",
       " (14914, 'USC00519281', '2017-06-25', 0.02, 71.0),\n",
       " (14913, 'USC00519281', '2017-06-24', 0.36, 77.0),\n",
       " (14912, 'USC00519281', '2017-06-23', 0.12, 72.0),\n",
       " (14911, 'USC00519281', '2017-06-22', 0.06, 72.0),\n",
       " (14910, 'USC00519281', '2017-06-21', 0.19, 74.0),\n",
       " (14909, 'USC00519281', '2017-06-20', 0.0, 72.0),\n",
       " (14908, 'USC00519281', '2017-06-19', 0.08, 72.0),\n",
       " (14907, 'USC00519281', '2017-06-18', 0.24, 75.0),\n",
       " (14906, 'USC00519281', '2017-06-17', 0.07, 79.0),\n",
       " (14905, 'USC00519281', '2017-06-16', 0.06, 73.0),\n",
       " (14904, 'USC00519281', '2017-06-15', 0.55, 75.0),\n",
       " (14903, 'USC00519281', '2017-06-14', 0.22, 74.0),\n",
       " (14902, 'USC00519281', '2017-06-13', 0.24, 76.0),\n",
       " (14901, 'USC00519281', '2017-06-12', 0.24, 74.0),\n",
       " (14900, 'USC00519281', '2017-06-11', 0.74, 74.0),\n",
       " (14899, 'USC00519281', '2017-06-10', 0.62, 74.0),\n",
       " (14898, 'USC00519281', '2017-06-09', 0.02, 72.0),\n",
       " (14897, 'USC00519281', '2017-06-08', 0.0, 75.0),\n",
       " (14896, 'USC00519281', '2017-06-07', 0.0, 75.0),\n",
       " (14895, 'USC00519281', '2017-06-06', 0.0, 75.0),\n",
       " (14894, 'USC00519281', '2017-06-05', 0.05, 75.0),\n",
       " (14893, 'USC00519281', '2017-06-04', 0.13, 77.0),\n",
       " (14892, 'USC00519281', '2017-06-03', 0.08, 76.0),\n",
       " (14891, 'USC00519281', '2017-06-02', 0.09, 76.0),\n",
       " (14890, 'USC00519281', '2017-06-01', 0.0, 80.0),\n",
       " (14889, 'USC00519281', '2017-05-31', 0.25, 75.0),\n",
       " (14888, 'USC00519281', '2017-05-30', 1.12, 72.0),\n",
       " (14887, 'USC00519281', '2017-05-29', 0.4, 74.0),\n",
       " (14886, 'USC00519281', '2017-05-28', 0.08, 80.0),\n",
       " (14885, 'USC00519281', '2017-05-27', 0.0, 74.0),\n",
       " (14884, 'USC00519281', '2017-05-26', 0.0, 74.0),\n",
       " (14883, 'USC00519281', '2017-05-25', 0.2, 74.0),\n",
       " (14882, 'USC00519281', '2017-05-24', 0.3, 74.0),\n",
       " (14881, 'USC00519281', '2017-05-23', 0.06, 71.0),\n",
       " (14880, 'USC00519281', '2017-05-22', 0.06, 71.0),\n",
       " (14879, 'USC00519281', '2017-05-21', 0.01, 74.0),\n",
       " (14878, 'USC00519281', '2017-05-20', 0.02, 76.0),\n",
       " (14877, 'USC00519281', '2017-05-19', 0.01, 68.0),\n",
       " (14876, 'USC00519281', '2017-05-18', 0.13, 69.0),\n",
       " (14875, 'USC00519281', '2017-05-17', 0.07, 74.0),\n",
       " (14874, 'USC00519281', '2017-05-16', 0.03, 74.0),\n",
       " (14873, 'USC00519281', '2017-05-15', 0.09, 74.0),\n",
       " (14872, 'USC00519281', '2017-05-14', 0.17, 77.0),\n",
       " (14871, 'USC00519281', '2017-05-13', 0.12, 76.0),\n",
       " (14870, 'USC00519281', '2017-05-12', 0.02, 75.0),\n",
       " (14869, 'USC00519281', '2017-05-11', 0.12, 70.0),\n",
       " (14868, 'USC00519281', '2017-05-10', 0.2, 74.0),\n",
       " (14867, 'USC00519281', '2017-05-09', 1.58, 67.0),\n",
       " (14866, 'USC00519281', '2017-05-08', 0.73, 70.0),\n",
       " (14865, 'USC00519281', '2017-05-07', 0.02, 75.0),\n",
       " (14864, 'USC00519281', '2017-05-06', 0.0, 79.0),\n",
       " (14863, 'USC00519281', '2017-05-05', 0.0, 70.0),\n",
       " (14862, 'USC00519281', '2017-05-04', 0.0, 75.0),\n",
       " (14861, 'USC00519281', '2017-05-03', 0.01, 70.0),\n",
       " (14860, 'USC00519281', '2017-05-02', 0.01, 75.0),\n",
       " (14859, 'USC00519281', '2017-05-01', 0.13, 65.0),\n",
       " (14858, 'USC00519281', '2017-04-30', 1.04, 60.0),\n",
       " (14857, 'USC00519281', '2017-04-29', 0.37, 72.0),\n",
       " (14856, 'USC00519281', '2017-04-28', 0.76, 67.0),\n",
       " (14855, 'USC00519281', '2017-04-27', 0.19, 70.0),\n",
       " (14854, 'USC00519281', '2017-04-26', 0.02, 74.0),\n",
       " (14853, 'USC00519281', '2017-04-25', 0.0, 72.0),\n",
       " (14852, 'USC00519281', '2017-04-24', 0.01, 68.0),\n",
       " (14851, 'USC00519281', '2017-04-23', 0.06, 76.0),\n",
       " (14850, 'USC00519281', '2017-04-22', 1.58, 72.0),\n",
       " (14849, 'USC00519281', '2017-04-21', 1.74, 69.0),\n",
       " (14848, 'USC00519281', '2017-04-20', 0.05, 76.0),\n",
       " (14847, 'USC00519281', '2017-04-19', 0.02, 67.0),\n",
       " (14846, 'USC00519281', '2017-04-18', 2.03, 68.0),\n",
       " (14845, 'USC00519281', '2017-04-17', 1.04, 67.0),\n",
       " (14844, 'USC00519281', '2017-04-16', 0.47, 71.0),\n",
       " (14843, 'USC00519281', '2017-04-15', 0.38, 78.0),\n",
       " (14842, 'USC00519281', '2017-04-14', 2.3, 74.0),\n",
       " (14841, 'USC00519281', '2017-04-13', 0.59, 69.0),\n",
       " (14840, 'USC00519281', '2017-04-12', 0.11, 69.0),\n",
       " (14839, 'USC00519281', '2017-04-11', 0.03, 70.0),\n",
       " (14838, 'USC00519281', '2017-04-10', 0.01, 67.0),\n",
       " (14837, 'USC00519281', '2017-04-09', 0.0, 78.0),\n",
       " (14836, 'USC00519281', '2017-04-08', 0.0, 77.0),\n",
       " (14835, 'USC00519281', '2017-04-07', 0.0, 74.0),\n",
       " (14834, 'USC00519281', '2017-04-06', 0.06, 67.0),\n",
       " (14833, 'USC00519281', '2017-04-05', 0.1, 71.0),\n",
       " (14832, 'USC00519281', '2017-04-04', 0.09, 67.0),\n",
       " (14831, 'USC00519281', '2017-04-03', 0.26, 70.0),\n",
       " (14830, 'USC00519281', '2017-04-02', 0.0, 75.0),\n",
       " (14829, 'USC00519281', '2017-04-01', 0.21, 74.0),\n",
       " (14828, 'USC00519281', '2017-03-31', 0.01, 71.0),\n",
       " (14827, 'USC00519281', '2017-03-30', 0.04, 73.0),\n",
       " (14826, 'USC00519281', '2017-03-29', 0.01, 68.0),\n",
       " (14825, 'USC00519281', '2017-03-28', 0.0, 74.0),\n",
       " (14824, 'USC00519281', '2017-03-27', 0.01, 76.0),\n",
       " (14823, 'USC00519281', '2017-03-26', 0.0, 77.0),\n",
       " (14822, 'USC00519281', '2017-03-25', 0.93, 76.0),\n",
       " (14821, 'USC00519281', '2017-03-24', 0.12, 71.0),\n",
       " (14820, 'USC00519281', '2017-03-23', 0.0, 72.0),\n",
       " (14819, 'USC00519281', '2017-03-22', 0.0, 73.0),\n",
       " (14818, 'USC00519281', '2017-03-21', 0.09, 72.0),\n",
       " (14817, 'USC00519281', '2017-03-20', 0.02, 69.0),\n",
       " (14816, 'USC00519281', '2017-03-19', 0.0, 74.0),\n",
       " (14815, 'USC00519281', '2017-03-18', 0.0, 65.0),\n",
       " (14814, 'USC00519281', '2017-03-17', 0.12, 68.0),\n",
       " (14813, 'USC00519281', '2017-03-16', 0.0, 66.0),\n",
       " (14812, 'USC00519281', '2017-03-15', 0.06, 69.0),\n",
       " (14811, 'USC00519281', '2017-03-14', 0.0, 67.0),\n",
       " (14810, 'USC00519281', '2017-03-13', 0.0, 66.0),\n",
       " (14809, 'USC00519281', '2017-03-12', 0.0, 69.0),\n",
       " (14808, 'USC00519281', '2017-03-11', 0.01, 81.0),\n",
       " (14807, 'USC00519281', '2017-03-10', 0.03, 66.0),\n",
       " (14806, 'USC00519281', '2017-03-09', 0.65, 67.0),\n",
       " (14805, 'USC00519281', '2017-03-08', 0.0, 64.0),\n",
       " (14804, 'USC00519281', '2017-03-07', 0.0, 62.0),\n",
       " (14803, 'USC00519281', '2017-03-06', 0.03, 67.0),\n",
       " (14802, 'USC00519281', '2017-03-05', 0.41, 73.0),\n",
       " (14801, 'USC00519281', '2017-03-04', 0.0, 77.0),\n",
       " (14800, 'USC00519281', '2017-03-03', 0.27, 72.0),\n",
       " (14799, 'USC00519281', '2017-03-02', 1.88, 73.0),\n",
       " (14798, 'USC00519281', '2017-03-01', 2.12, 71.0),\n",
       " (14797, 'USC00519281', '2017-02-28', 0.04, 72.0),\n",
       " (14796, 'USC00519281', '2017-02-27', 0.0, 65.0),\n",
       " (14795, 'USC00519281', '2017-02-26', 0.0, 67.0),\n",
       " (14794, 'USC00519281', '2017-02-25', 0.0, 61.0),\n",
       " (14793, 'USC00519281', '2017-02-24', 0.0, 69.0),\n",
       " (14792, 'USC00519281', '2017-02-23', 0.0, 71.0),\n",
       " (14791, 'USC00519281', '2017-02-22', 0.06, 71.0),\n",
       " (14790, 'USC00519281', '2017-02-21', 0.0, 71.0),\n",
       " (14789, 'USC00519281', '2017-02-20', 0.0, 70.0),\n",
       " (14788, 'USC00519281', '2017-02-19', 0.09, 70.0),\n",
       " (14787, 'USC00519281', '2017-02-18', 0.0, 74.0),\n",
       " (14786, 'USC00519281', '2017-02-17', 0.13, 70.0),\n",
       " (14785, 'USC00519281', '2017-02-16', 0.73, 65.0),\n",
       " (14784, 'USC00519281', '2017-02-15', 0.01, 75.0),\n",
       " (14783, 'USC00519281', '2017-02-14', 0.0, 79.0),\n",
       " (14782, 'USC00519281', '2017-02-13', 0.01, 73.0),\n",
       " (14781, 'USC00519281', '2017-02-12', 2.98, 70.0),\n",
       " (14780, 'USC00519281', '2017-02-11', 1.73, 68.0),\n",
       " (14779, 'USC00519281', '2017-02-10', 0.0, 62.0),\n",
       " (14778, 'USC00519281', '2017-02-09', 0.0, 59.0),\n",
       " (14777, 'USC00519281', '2017-02-08', 0.0, 59.0),\n",
       " (14776, 'USC00519281', '2017-02-07', 1.32, 64.0),\n",
       " (14775, 'USC00519281', '2017-02-06', 0.18, 75.0),\n",
       " (14774, 'USC00519281', '2017-02-05', 0.0, 73.0),\n",
       " (14773, 'USC00519281', '2017-02-04', 0.0, 70.0),\n",
       " (14772, 'USC00519281', '2017-02-03', 0.0, 60.0),\n",
       " (14771, 'USC00519281', '2017-02-02', 0.0, 59.0),\n",
       " (14770, 'USC00519281', '2017-02-01', 0.0, 68.0),\n",
       " (14769, 'USC00519281', '2017-01-31', 0.0, 68.0),\n",
       " (14768, 'USC00519281', '2017-01-30', 0.0, 68.0),\n",
       " (14767, 'USC00519281', '2017-01-29', 0.26, 69.0),\n",
       " (14766, 'USC00519281', '2017-01-28', 0.0, 65.0),\n",
       " (14765, 'USC00519281', '2017-01-27', 0.03, 66.0),\n",
       " (14764, 'USC00519281', '2017-01-26', 0.0, 70.0),\n",
       " (14763, 'USC00519281', '2017-01-25', 0.79, 69.0),\n",
       " (14762, 'USC00519281', '2017-01-24', 0.13, 72.0),\n",
       " (14761, 'USC00519281', '2017-01-23', 0.01, 72.0),\n",
       " (14760, 'USC00519281', '2017-01-22', 0.09, 71.0),\n",
       " (14759, 'USC00519281', '2017-01-21', 0.03, 71.0),\n",
       " (14758, 'USC00519281', '2017-01-20', 0.0, 69.0),\n",
       " (14757, 'USC00519281', '2017-01-19', 0.02, 71.0),\n",
       " (14756, 'USC00519281', '2017-01-18', 0.0, 72.0),\n",
       " (14755, 'USC00519281', '2017-01-17', 0.0, 69.0),\n",
       " (14754, 'USC00519281', '2017-01-16', 0.0, 74.0),\n",
       " (14753, 'USC00519281', '2017-01-15', 0.0, 70.0),\n",
       " (14752, 'USC00519281', '2017-01-14', 0.01, 77.0),\n",
       " (14751, 'USC00519281', '2017-01-13', 0.0, 69.0),\n",
       " (14750, 'USC00519281', '2017-01-12', 0.0, 65.0),\n",
       " (14749, 'USC00519281', '2017-01-11', 0.0, 63.0),\n",
       " (14748, 'USC00519281', '2017-01-10', 0.0, 62.0),\n",
       " (14747, 'USC00519281', '2017-01-09', 0.0, 62.0),\n",
       " (14746, 'USC00519281', '2017-01-08', 0.0, 70.0),\n",
       " (14745, 'USC00519281', '2017-01-07', 0.0, 70.0),\n",
       " (14744, 'USC00519281', '2017-01-06', 0.1, 62.0),\n",
       " (14743, 'USC00519281', '2017-01-05', 0.06, 63.0),\n",
       " (14742, 'USC00519281', '2017-01-04', 0.0, 63.0),\n",
       " (14741, 'USC00519281', '2017-01-03', 0.0, 64.0),\n",
       " (14740, 'USC00519281', '2017-01-02', 0.01, 70.0),\n",
       " (14739, 'USC00519281', '2017-01-01', 0.03, 72.0),\n",
       " (14738, 'USC00519281', '2016-12-31', 0.25, 67.0),\n",
       " (14737, 'USC00519281', '2016-12-30', 0.29, 69.0),\n",
       " (14736, 'USC00519281', '2016-12-29', 0.52, 74.0),\n",
       " (14735, 'USC00519281', '2016-12-28', 0.09, 72.0),\n",
       " (14734, 'USC00519281', '2016-12-27', 0.05, 71.0),\n",
       " (14733, 'USC00519281', '2016-12-26', 0.22, 72.0),\n",
       " (14732, 'USC00519281', '2016-12-25', 0.02, 74.0),\n",
       " (14731, 'USC00519281', '2016-12-24', 0.2, 74.0),\n",
       " (14730, 'USC00519281', '2016-12-23', 0.24, 71.0),\n",
       " (14729, 'USC00519281', '2016-12-22', 0.86, 73.0),\n",
       " (14728, 'USC00519281', '2016-12-21', 0.11, 74.0),\n",
       " (14727, 'USC00519281', '2016-12-20', 0.0, 76.0),\n",
       " (14726, 'USC00519281', '2016-12-19', 0.03, 76.0),\n",
       " (14725, 'USC00519281', '2016-12-18', 0.16, 69.0),\n",
       " (14724, 'USC00519281', '2016-12-17', 0.07, 70.0),\n",
       " (14723, 'USC00519281', '2016-12-16', 0.03, 75.0),\n",
       " (14722, 'USC00519281', '2016-12-15', 0.14, 62.0),\n",
       " (14721, 'USC00519281', '2016-12-14', 0.92, 68.0),\n",
       " (14720, 'USC00519281', '2016-12-13', 0.04, 65.0),\n",
       " (14719, 'USC00519281', '2016-12-12', 0.0, 66.0),\n",
       " (14718, 'USC00519281', '2016-12-11', 0.0, 69.0),\n",
       " (14717, 'USC00519281', '2016-12-10', 0.02, 69.0),\n",
       " (14716, 'USC00519281', '2016-12-09', 0.31, 68.0),\n",
       " (14715, 'USC00519281', '2016-12-08', 0.07, 70.0),\n",
       " (14714, 'USC00519281', '2016-12-07', 0.12, 69.0),\n",
       " (14713, 'USC00519281', '2016-12-06', 0.0, 67.0),\n",
       " (14712, 'USC00519281', '2016-12-05', 0.22, 67.0),\n",
       " (14711, 'USC00519281', '2016-12-04', 0.04, 70.0),\n",
       " (14710, 'USC00519281', '2016-12-03', 0.77, 72.0),\n",
       " (14709, 'USC00519281', '2016-12-02', 0.35, 70.0),\n",
       " (14708, 'USC00519281', '2016-12-01', 0.37, 74.0),\n",
       " (14707, 'USC00519281', '2016-11-30', 0.05, 73.0),\n",
       " (14706, 'USC00519281', '2016-11-29', 0.09, 73.0),\n",
       " (14705, 'USC00519281', '2016-11-28', 0.0, 75.0),\n",
       " (14704, 'USC00519281', '2016-11-27', 0.17, 73.0),\n",
       " (14703, 'USC00519281', '2016-11-26', 0.06, 75.0),\n",
       " (14702, 'USC00519281', '2016-11-25', 0.08, 74.0),\n",
       " (14701, 'USC00519281', '2016-11-24', 0.3, 75.0),\n",
       " (14700, 'USC00519281', '2016-11-23', 0.25, 74.0),\n",
       " (14699, 'USC00519281', '2016-11-22', 2.05, 75.0),\n",
       " (14698, 'USC00519281', '2016-11-21', 0.11, 73.0),\n",
       " (14697, 'USC00519281', '2016-11-20', 0.39, 75.0),\n",
       " (14696, 'USC00519281', '2016-11-19', 0.11, 73.0),\n",
       " (14695, 'USC00519281', '2016-11-18', 0.0, 75.0),\n",
       " (14694, 'USC00519281', '2016-11-17', 0.01, 76.0),\n",
       " (14693, 'USC00519281', '2016-11-16', 0.24, 75.0),\n",
       " (14692, 'USC00519281', '2016-11-15', 0.0, 76.0),\n",
       " (14691, 'USC00519281', '2016-11-14', 0.0, 76.0),\n",
       " (14690, 'USC00519281', '2016-11-13', 0.0, 77.0),\n",
       " (14689, 'USC00519281', '2016-11-12', 0.0, 74.0),\n",
       " (14688, 'USC00519281', '2016-11-11', 0.0, 77.0),\n",
       " (14687, 'USC00519281', '2016-11-10', 0.0, 67.0),\n",
       " (14686, 'USC00519281', '2016-11-09', 0.11, 68.0),\n",
       " (14685, 'USC00519281', '2016-11-08', 0.21, 70.0),\n",
       " (14684, 'USC00519281', '2016-11-07', 0.0, 63.0),\n",
       " (14683, 'USC00519281', '2016-11-06', 0.01, 71.0),\n",
       " (14682, 'USC00519281', '2016-11-05', 0.03, 75.0),\n",
       " (14681, 'USC00519281', '2016-11-04', 0.0, 75.0),\n",
       " (14680, 'USC00519281', '2016-11-03', 0.0, 75.0),\n",
       " (14679, 'USC00519281', '2016-11-02', 0.0, 75.0),\n",
       " (14678, 'USC00519281', '2016-11-01', 0.1, 74.0),\n",
       " (14677, 'USC00519281', '2016-10-31', 0.07, 76.0),\n",
       " (14676, 'USC00519281', '2016-10-30', 0.16, 76.0),\n",
       " (14675, 'USC00519281', '2016-10-29', 0.1, 77.0),\n",
       " (14674, 'USC00519281', '2016-10-28', 0.05, 74.0),\n",
       " (14673, 'USC00519281', '2016-10-27', 0.22, 76.0),\n",
       " (14672, 'USC00519281', '2016-10-26', 0.01, 73.0),\n",
       " (14671, 'USC00519281', '2016-10-25', 0.11, 76.0),\n",
       " (14670, 'USC00519281', '2016-10-24', 0.08, 75.0),\n",
       " (14669, 'USC00519281', '2016-10-23', 0.02, 74.0),\n",
       " (14668, 'USC00519281', '2016-10-22', 0.15, 77.0),\n",
       " (14667, 'USC00519281', '2016-10-21', 0.0, 78.0),\n",
       " (14666, 'USC00519281', '2016-10-20', 0.0, 78.0),\n",
       " (14665, 'USC00519281', '2016-10-19', 0.11, 78.0),\n",
       " (14664, 'USC00519281', '2016-10-18', 0.02, 78.0),\n",
       " (14663, 'USC00519281', '2016-10-17', 0.01, 77.0),\n",
       " (14662, 'USC00519281', '2016-10-16', 0.0, 79.0),\n",
       " (14661, 'USC00519281', '2016-10-15', 0.04, 77.0),\n",
       " (14660, 'USC00519281', '2016-10-14', 0.0, 79.0),\n",
       " (14659, 'USC00519281', '2016-10-13', 0.0, 78.0),\n",
       " (14658, 'USC00519281', '2016-10-12', 0.03, 79.0),\n",
       " (14657, 'USC00519281', '2016-10-11', 0.28, 77.0),\n",
       " (14656, 'USC00519281', '2016-10-10', 0.0, 71.0),\n",
       " (14655, 'USC00519281', '2016-10-09', 0.0, 72.0),\n",
       " (14654, 'USC00519281', '2016-10-08', 0.0, 73.0),\n",
       " (14653, 'USC00519281', '2016-10-07', 0.0, 76.0),\n",
       " (14652, 'USC00519281', '2016-10-06', 0.0, 75.0),\n",
       " (14651, 'USC00519281', '2016-10-05', 0.01, 79.0),\n",
       " (14650, 'USC00519281', '2016-10-04', 0.03, 79.0),\n",
       " (14649, 'USC00519281', '2016-10-03', 0.16, 79.0),\n",
       " (14648, 'USC00519281', '2016-10-02', 0.06, 79.0),\n",
       " (14647, 'USC00519281', '2016-10-01', 0.14, 77.0),\n",
       " (14646, 'USC00519281', '2016-09-30', 0.25, 78.0),\n",
       " (14645, 'USC00519281', '2016-09-29', 0.59, 78.0),\n",
       " (14644, 'USC00519281', '2016-09-28', 0.0, 78.0),\n",
       " (14643, 'USC00519281', '2016-09-27', 0.17, 80.0),\n",
       " (14642, 'USC00519281', '2016-09-26', 0.17, 77.0),\n",
       " (14641, 'USC00519281', '2016-09-25', 0.03, 79.0),\n",
       " (14640, 'USC00519281', '2016-09-24', 0.01, 79.0),\n",
       " (14639, 'USC00519281', '2016-09-23', 0.94, 78.0),\n",
       " (14638, 'USC00519281', '2016-09-22', 0.34, 77.0),\n",
       " (14637, 'USC00519281', '2016-09-21', 0.07, 74.0),\n",
       " (14636, 'USC00519281', '2016-09-20', 0.22, 76.0),\n",
       " (14635, 'USC00519281', '2016-09-19', 0.01, 78.0),\n",
       " (14634, 'USC00519281', '2016-09-18', 0.07, 78.0),\n",
       " (14633, 'USC00519281', '2016-09-17', 0.36, 79.0),\n",
       " (14632, 'USC00519281', '2016-09-16', 0.06, 78.0),\n",
       " (14631, 'USC00519281', '2016-09-15', 0.83, 79.0),\n",
       " (14630, 'USC00519281', '2016-09-14', 2.33, 75.0),\n",
       " (14629, 'USC00519281', '2016-09-13', 0.34, 79.0),\n",
       " (14628, 'USC00519281', '2016-09-12', 0.31, 76.0),\n",
       " (14627, 'USC00519281', '2016-09-11', 0.3, 80.0),\n",
       " (14626, 'USC00519281', '2016-09-10', 0.09, 77.0),\n",
       " (14625, 'USC00519281', '2016-09-09', 0.16, 79.0),\n",
       " (14624, 'USC00519281', '2016-09-08', 0.07, 80.0),\n",
       " (14623, 'USC00519281', '2016-09-07', 0.16, 74.0),\n",
       " (14622, 'USC00519281', '2016-09-06', 0.11, 73.0),\n",
       " (14621, 'USC00519281', '2016-09-05', 0.03, 78.0),\n",
       " (14620, 'USC00519281', '2016-09-04', 0.14, 78.0),\n",
       " (14619, 'USC00519281', '2016-09-03', 0.12, 78.0),\n",
       " (14618, 'USC00519281', '2016-09-02', 0.01, 80.0),\n",
       " (14617, 'USC00519281', '2016-09-01', 0.02, 80.0),\n",
       " (14616, 'USC00519281', '2016-08-31', 0.24, 78.0),\n",
       " (14615, 'USC00519281', '2016-08-30', 0.0, 77.0),\n",
       " (14614, 'USC00519281', '2016-08-29', 0.35, 78.0),\n",
       " (14613, 'USC00519281', '2016-08-28', 0.6, 73.0),\n",
       " (14612, 'USC00519281', '2016-08-27', 0.12, 75.0),\n",
       " (14611, 'USC00519281', '2016-08-26', 0.01, 80.0),\n",
       " (14610, 'USC00519281', '2016-08-25', 0.06, 80.0),\n",
       " (14609, 'USC00519281', '2016-08-24', 2.15, 77.0),\n",
       " (14608, 'USC00519281', '2016-08-23', 1.79, 77.0)]"
      ]
     },
     "execution_count": 34,
     "metadata": {},
     "output_type": "execute_result"
    }
   ],
   "source": [
    "# Query the last 12 months of temperature observation data for this station and plot the results as a histogram\n",
    "results_tobs = session.query( Measurement.id, Measurement.station, Measurement.date, Measurement.prcp, Measurement.tobs).\\\n",
    "    filter(Measurement.date > date).filter(Measurement.tobs != None).\\\n",
    "    filter(Measurement.station == top_sta).\\\n",
    "    order_by(Measurement.date.desc()).all()\n",
    "results_tobs"
   ]
  },
  {
   "cell_type": "code",
   "execution_count": 35,
   "metadata": {},
   "outputs": [
    {
     "data": {
      "text/html": [
       "<div>\n",
       "<style scoped>\n",
       "    .dataframe tbody tr th:only-of-type {\n",
       "        vertical-align: middle;\n",
       "    }\n",
       "\n",
       "    .dataframe tbody tr th {\n",
       "        vertical-align: top;\n",
       "    }\n",
       "\n",
       "    .dataframe thead th {\n",
       "        text-align: right;\n",
       "    }\n",
       "</style>\n",
       "<table border=\"1\" class=\"dataframe\">\n",
       "  <thead>\n",
       "    <tr style=\"text-align: right;\">\n",
       "      <th></th>\n",
       "      <th>tobs</th>\n",
       "    </tr>\n",
       "  </thead>\n",
       "  <tbody>\n",
       "    <tr>\n",
       "      <th>2017-08-18</th>\n",
       "      <td>79.0</td>\n",
       "    </tr>\n",
       "    <tr>\n",
       "      <th>2017-08-17</th>\n",
       "      <td>76.0</td>\n",
       "    </tr>\n",
       "    <tr>\n",
       "      <th>2017-08-16</th>\n",
       "      <td>76.0</td>\n",
       "    </tr>\n",
       "    <tr>\n",
       "      <th>2017-08-15</th>\n",
       "      <td>77.0</td>\n",
       "    </tr>\n",
       "    <tr>\n",
       "      <th>2017-08-14</th>\n",
       "      <td>77.0</td>\n",
       "    </tr>\n",
       "  </tbody>\n",
       "</table>\n",
       "</div>"
      ],
      "text/plain": [
       "            tobs\n",
       "2017-08-18  79.0\n",
       "2017-08-17  76.0\n",
       "2017-08-16  76.0\n",
       "2017-08-15  77.0\n",
       "2017-08-14  77.0"
      ]
     },
     "execution_count": 35,
     "metadata": {},
     "output_type": "execute_result"
    }
   ],
   "source": [
    "tdate_12 = [(data[2]) for data in results_tobs[:]]\n",
    "tobs_12 = [float(data[4]) for data in results_tobs[:]]\n",
    "df_tbos = pd.DataFrame({'tobs':tobs_12}, index=tdate_12)\n",
    "df_tbos.head()"
   ]
  },
  {
   "cell_type": "code",
   "execution_count": 36,
   "metadata": {},
   "outputs": [],
   "source": [
    "#plt.close()\n",
    "#df_tbos.hist()\n",
    "#plt.tight_layout()\n",
    "#plt.show()\n",
    "#plt.savefig(\"Images/trip_t.png\")"
   ]
  },
  {
   "cell_type": "code",
   "execution_count": 37,
   "metadata": {},
   "outputs": [
    {
     "data": {
      "image/png": "[encoded data removed]",
      "text/plain": [
       "<Figure size 432x288 with 1 Axes>"
      ]
     },
     "metadata": {
      "needs_background": "light"
     },
     "output_type": "display_data"
    }
   ],
   "source": [
    "plt.hist(list(np.ravel(tobs_12)), bins =12)\n",
    "plt.title('tobs')\n",
    "plt.savefig(\"Images/tobs_sta.png\")"
   ]
  },
  {
   "cell_type": "code",
   "execution_count": 38,
   "metadata": {},
   "outputs": [
    {
     "name": "stdout",
     "output_type": "stream",
     "text": [
      "[(62.0, 69.57142857142857, 74.0)]\n"
     ]
    }
   ],
   "source": [
    "# This function called `calc_temps` will accept start date and end date in the format '%Y-%m-%d' \n",
    "# and return the minimum, average, and maximum temperatures for that range of dates\n",
    "def calc_temps(start_date, end_date):\n",
    "    \"\"\"TMIN, TAVG, and TMAX for a list of dates.\n",
    "    \n",
    "    Args:\n",
    "        start_date (string): A date string in the format %Y-%m-%d\n",
    "        end_date (string): A date string in the format %Y-%m-%d\n",
    "        \n",
    "    Returns:\n",
    "        TMIN, TAVE, and TMAX\n",
    "    \"\"\"\n",
    "    \n",
    "    return session.query(func.min(Measurement.tobs), func.avg(Measurement.tobs), func.max(Measurement.tobs)).\\\n",
    "        filter(Measurement.date >= start_date).filter(Measurement.date <= end_date).all()\n",
    "\n",
    "# function usage example\n",
    "print(calc_temps('2012-02-28', '2012-03-05'))"
   ]
  },
  {
   "cell_type": "code",
   "execution_count": 39,
   "metadata": {},
   "outputs": [],
   "source": [
    "# Use your previous function `calc_temps` to calculate the tmin, tavg, and tmax \n",
    "# for your trip using the previous year's data for those same dates."
   ]
  },
  {
   "cell_type": "code",
   "execution_count": 40,
   "metadata": {},
   "outputs": [
    {
     "name": "stdout",
     "output_type": "stream",
     "text": [
      "[(62.0, 69.88636363636364, 80.0)]\n"
     ]
    }
   ],
   "source": [
    "print(calc_temps('2016-02-28', '2016-03-05'))"
   ]
  },
  {
   "cell_type": "code",
   "execution_count": 41,
   "metadata": {},
   "outputs": [],
   "source": [
    "# Plot the results from your previous query as a bar chart. \n",
    "# Use \"Trip Avg Temp\" as your Title\n",
    "# Use the average temperature for the y value\n",
    "# Use the peak-to-peak (tmax-tmin) value as the y error bar (yerr)"
   ]
  },
  {
   "cell_type": "code",
   "execution_count": 42,
   "metadata": {},
   "outputs": [
    {
     "data": {
      "text/plain": [
       "[(58.0, 74.59901654000895, 87.0)]"
      ]
     },
     "execution_count": 42,
     "metadata": {},
     "output_type": "execute_result"
    }
   ],
   "source": [
    "calc_temps('2016-08-22', '2017-08-23')"
   ]
  },
  {
   "cell_type": "code",
   "execution_count": 43,
   "metadata": {},
   "outputs": [
    {
     "data": {
      "text/plain": [
       "[29.0, 74.59058295964125]"
      ]
     },
     "execution_count": 43,
     "metadata": {},
     "output_type": "execute_result"
    }
   ],
   "source": [
    "#date = dt.datetime(2016, 8, 23)\n",
    "\n",
    "results=session.query((func.max(Measurement.tobs)-func.min(Measurement.tobs)), func.avg(Measurement.tobs) ).\\\n",
    "        filter(Measurement.date >= date).all()\n",
    "ptps = list(np.ravel(results))\n",
    "\n",
    "ptps"
   ]
  },
  {
   "cell_type": "code",
   "execution_count": 44,
   "metadata": {},
   "outputs": [
    {
     "data": {
      "image/png": "[encoded data removed]",
      "text/plain": [
       "<Figure size 216x360 with 1 Axes>"
      ]
     },
     "metadata": {
      "needs_background": "light"
     },
     "output_type": "display_data"
    },
    {
     "data": {
      "text/plain": [
       "<Figure size 432x288 with 0 Axes>"
      ]
     },
     "metadata": {},
     "output_type": "display_data"
    }
   ],
   "source": [
    "avg_temp=ptps[1]\n",
    "std_temp=ptps[0]\n",
    "\n",
    "fig, ax = plt.subplots(figsize=(3, 5))\n",
    "\n",
    "index = 1\n",
    "#bar_width = 0.1\n",
    "\n",
    "opacity = 0.85\n",
    "#error_config = {'ecolor': '0.3'}\n",
    "\n",
    "ax.bar(index, avg_temp, alpha=opacity, color='pink', yerr=std_temp)\n",
    "\n",
    "ax.set_title('Trip Avg Temp')\n",
    "ax.set_ylabel('Temp(F)')\n",
    "ax.set_xticks([])\n",
    "fig.tight_layout()\n",
    "plt.show()\n",
    "plt.savefig(\"Images/trip_avgtemp.png\")"
   ]
  },
  {
   "cell_type": "code",
   "execution_count": null,
   "metadata": {},
   "outputs": [],
   "source": [
    "# Calculate the total amount of rainfall per weather station for your trip dates using the previous year's matching dates.\n",
    "# Sort this in descending order by precipitation amount and list the station, name, latitude, longitude, and elevation"
   ]
  },
  {
   "cell_type": "code",
   "execution_count": 46,
   "metadata": {},
   "outputs": [
    {
     "name": "stdout",
     "output_type": "stream",
     "text": [
      "id INTEGER\n",
      "station TEXT\n",
      "name TEXT\n",
      "latitude FLOAT\n",
      "longitude FLOAT\n",
      "elevation FLOAT\n"
     ]
    }
   ],
   "source": [
    "# Using the inspector to print the column names within the 'Station' table and its types\n",
    "columns = inspector.get_columns('station')\n",
    "for column in columns:\n",
    "    print(column[\"name\"], column[\"type\"])    "
   ]
  },
  {
   "cell_type": "code",
   "execution_count": 47,
   "metadata": {},
   "outputs": [
    {
     "name": "stdout",
     "output_type": "stream",
     "text": [
      "[('USC00517948', 'WAIKIKI 717.2, HI US', 21.2716, -157.8168, 3.0, 2.4), ('USC00516128', 'WAIKIKI 717.2, HI US', 21.2716, -157.8168, 3.0, 0.58), ('USC00513117', 'WAIKIKI 717.2, HI US', 21.2716, -157.8168, 3.0, 0.16), ('USC00514830', 'WAIKIKI 717.2, HI US', 21.2716, -157.8168, 3.0, 0.04), ('USC00519281', 'WAIKIKI 717.2, HI US', 21.2716, -157.8168, 3.0, 0.04), ('USC00519397', 'WAIKIKI 717.2, HI US', 21.2716, -157.8168, 3.0, 0.0), ('USC00519523', 'WAIKIKI 717.2, HI US', 21.2716, -157.8168, 3.0, 0.0)]\n"
     ]
    }
   ],
   "source": [
    "def calc_pcps(start_date, end_date):\n",
    "       \n",
    "    return session.query(Measurement.station, Station.name, Station.latitude, Station.longitude,Station.elevation, (Measurement.prcp)).\\\n",
    "        filter(Measurement.date >= start_date).filter(Measurement.date <= end_date).filter(Measurement.prcp != None).\\\n",
    "        group_by(Measurement.station).\\\n",
    "        order_by(Measurement.prcp.desc()).all()\n",
    "print(calc_pcps('2017-02-28', '2017-03-05'))"
   ]
  },
  {
   "cell_type": "markdown",
   "metadata": {},
   "source": [
    "## Optional Challenge Assignment"
   ]
  },
  {
   "cell_type": "code",
   "execution_count": 45,
   "metadata": {},
   "outputs": [
    {
     "data": {
      "text/plain": [
       "[(62.0, 69.15384615384616, 77.0)]"
      ]
     },
     "execution_count": 45,
     "metadata": {},
     "output_type": "execute_result"
    }
   ],
   "source": [
    "# Create a query that will calculate the daily normals \n",
    "# (i.e. the averages for tmin, tmax, and tavg for all historic data matching a specific month and day)\n",
    "\n",
    "def daily_normals(date):\n",
    "    \"\"\"Daily Normals.\n",
    "    \n",
    "    Args:\n",
    "        date (str): A date string in the format '%m-%d'\n",
    "        \n",
    "    Returns:\n",
    "        A list of tuples containing the daily normals, tmin, tavg, and tmax\n",
    "    \n",
    "    \"\"\"\n",
    "    \n",
    "    sel = [func.min(Measurement.tobs), func.avg(Measurement.tobs), func.max(Measurement.tobs)]\n",
    "    return session.query(*sel).filter(func.strftime(\"%m-%d\", Measurement.date) == date).all()\n",
    "    \n",
    "daily_normals(\"01-01\")"
   ]
  },
  {
   "cell_type": "code",
   "execution_count": 46,
   "metadata": {},
   "outputs": [],
   "source": [
    "# calculate the daily normals for your trip\n",
    "# push each tuple of calculations into a list called `normals`\n",
    "\n",
    "# Set the start and end date of the trip\n",
    "\n",
    "# Use the start and end date to create a range of dates\n",
    "\n",
    "# Stip off the year and save a list of %m-%d strings\n",
    "\n",
    "# Loop through the list of %m-%d strings and calculate the normals for each date"
   ]
  },
  {
   "cell_type": "code",
   "execution_count": 47,
   "metadata": {},
   "outputs": [
    {
     "data": {
      "text/plain": [
       "['2018-04-14',\n",
       " '2018-04-15',\n",
       " '2018-04-16',\n",
       " '2018-04-17',\n",
       " '2018-04-18',\n",
       " '2018-04-19',\n",
       " '2018-04-20',\n",
       " '2018-04-21',\n",
       " '2018-04-22']"
      ]
     },
     "execution_count": 47,
     "metadata": {},
     "output_type": "execute_result"
    }
   ],
   "source": [
    "start_date = dt.datetime(2018, 4, 14)\n",
    "end_date = dt.datetime(2018, 4, 22)\n",
    "step = dt.timedelta(days=1)\n",
    "\n",
    "trip_date = []\n",
    "\n",
    "#Create a sequence days of my trip\n",
    "while start_date <= end_date:\n",
    "    trip_date.append(start_date.strftime('%Y-%m-%d'))\n",
    "    start_date += step\n",
    "trip_date"
   ]
  },
  {
   "cell_type": "code",
   "execution_count": 48,
   "metadata": {},
   "outputs": [
    {
     "data": {
      "text/plain": [
       "['04-14',\n",
       " '04-15',\n",
       " '04-16',\n",
       " '04-17',\n",
       " '04-18',\n",
       " '04-19',\n",
       " '04-20',\n",
       " '04-21',\n",
       " '04-22']"
      ]
     },
     "execution_count": 48,
     "metadata": {},
     "output_type": "execute_result"
    }
   ],
   "source": [
    "trip_dt = [(parse(trip_date[x])- dt.timedelta(days=365)).strftime('%m-%d') for x in range(len(trip_date))]\n",
    "len(trip_dt)\n",
    "trip_dt"
   ]
  },
  {
   "cell_type": "code",
   "execution_count": 49,
   "metadata": {},
   "outputs": [
    {
     "data": {
      "text/plain": [
       "[(65.0, 72.92727272727272, 84.0)]"
      ]
     },
     "execution_count": 49,
     "metadata": {},
     "output_type": "execute_result"
    }
   ],
   "source": [
    "normals_data=[]\n",
    "for x in trip_dt:\n",
    "    normals_data=(daily_normals(x))\n",
    "normals_data"
   ]
  },
  {
   "cell_type": "code",
   "execution_count": 50,
   "metadata": {},
   "outputs": [],
   "source": [
    "normals_data=[np.ravel(daily_normals(x)) for x in trip_dt]"
   ]
  },
  {
   "cell_type": "code",
   "execution_count": 51,
   "metadata": {},
   "outputs": [
    {
     "data": {
      "text/plain": [
       "[array([65.  , 72.75, 81.  ]),\n",
       " array([61.        , 71.79310345, 79.        ]),\n",
       " array([62.        , 71.55357143, 81.        ]),\n",
       " array([65.        , 71.93103448, 77.        ]),\n",
       " array([67.        , 72.49152542, 77.        ]),\n",
       " array([65.        , 72.42105263, 83.        ]),\n",
       " array([64.        , 72.73684211, 80.        ]),\n",
       " array([66.        , 72.32142857, 78.        ]),\n",
       " array([65.        , 72.92727273, 84.        ])]"
      ]
     },
     "execution_count": 51,
     "metadata": {},
     "output_type": "execute_result"
    }
   ],
   "source": [
    "normals_data"
   ]
  },
  {
   "cell_type": "code",
   "execution_count": 52,
   "metadata": {},
   "outputs": [
    {
     "data": {
      "text/html": [
       "<div>\n",
       "<style scoped>\n",
       "    .dataframe tbody tr th:only-of-type {\n",
       "        vertical-align: middle;\n",
       "    }\n",
       "\n",
       "    .dataframe tbody tr th {\n",
       "        vertical-align: top;\n",
       "    }\n",
       "\n",
       "    .dataframe thead th {\n",
       "        text-align: right;\n",
       "    }\n",
       "</style>\n",
       "<table border=\"1\" class=\"dataframe\">\n",
       "  <thead>\n",
       "    <tr style=\"text-align: right;\">\n",
       "      <th></th>\n",
       "      <th>tmin</th>\n",
       "      <th>tavg</th>\n",
       "      <th>tmax</th>\n",
       "    </tr>\n",
       "  </thead>\n",
       "  <tbody>\n",
       "    <tr>\n",
       "      <th>2018-04-14</th>\n",
       "      <td>65.0</td>\n",
       "      <td>72.750000</td>\n",
       "      <td>81.0</td>\n",
       "    </tr>\n",
       "    <tr>\n",
       "      <th>2018-04-15</th>\n",
       "      <td>61.0</td>\n",
       "      <td>71.793103</td>\n",
       "      <td>79.0</td>\n",
       "    </tr>\n",
       "    <tr>\n",
       "      <th>2018-04-16</th>\n",
       "      <td>62.0</td>\n",
       "      <td>71.553571</td>\n",
       "      <td>81.0</td>\n",
       "    </tr>\n",
       "    <tr>\n",
       "      <th>2018-04-17</th>\n",
       "      <td>65.0</td>\n",
       "      <td>71.931034</td>\n",
       "      <td>77.0</td>\n",
       "    </tr>\n",
       "    <tr>\n",
       "      <th>2018-04-18</th>\n",
       "      <td>67.0</td>\n",
       "      <td>72.491525</td>\n",
       "      <td>77.0</td>\n",
       "    </tr>\n",
       "    <tr>\n",
       "      <th>2018-04-19</th>\n",
       "      <td>65.0</td>\n",
       "      <td>72.421053</td>\n",
       "      <td>83.0</td>\n",
       "    </tr>\n",
       "    <tr>\n",
       "      <th>2018-04-20</th>\n",
       "      <td>64.0</td>\n",
       "      <td>72.736842</td>\n",
       "      <td>80.0</td>\n",
       "    </tr>\n",
       "    <tr>\n",
       "      <th>2018-04-21</th>\n",
       "      <td>66.0</td>\n",
       "      <td>72.321429</td>\n",
       "      <td>78.0</td>\n",
       "    </tr>\n",
       "    <tr>\n",
       "      <th>2018-04-22</th>\n",
       "      <td>65.0</td>\n",
       "      <td>72.927273</td>\n",
       "      <td>84.0</td>\n",
       "    </tr>\n",
       "  </tbody>\n",
       "</table>\n",
       "</div>"
      ],
      "text/plain": [
       "            tmin       tavg  tmax\n",
       "2018-04-14  65.0  72.750000  81.0\n",
       "2018-04-15  61.0  71.793103  79.0\n",
       "2018-04-16  62.0  71.553571  81.0\n",
       "2018-04-17  65.0  71.931034  77.0\n",
       "2018-04-18  67.0  72.491525  77.0\n",
       "2018-04-19  65.0  72.421053  83.0\n",
       "2018-04-20  64.0  72.736842  80.0\n",
       "2018-04-21  66.0  72.321429  78.0\n",
       "2018-04-22  65.0  72.927273  84.0"
      ]
     },
     "execution_count": 52,
     "metadata": {},
     "output_type": "execute_result"
    }
   ],
   "source": [
    "df_trip=pd.DataFrame(normals_data, columns = [\"tmin\",\"tavg\",\"tmax\"],index = trip_date)\n",
    "df_trip"
   ]
  },
  {
   "cell_type": "code",
   "execution_count": 53,
   "metadata": {},
   "outputs": [
    {
     "data": {
      "image/png": "[encoded data removed]",
      "text/plain": [
       "<Figure size 432x288 with 1 Axes>"
      ]
     },
     "metadata": {
      "needs_background": "light"
     },
     "output_type": "display_data"
    }
   ],
   "source": [
    "# Plot the daily normals as an area plot with `stacked=False`\n",
    "\n",
    "df_trip.plot(kind = \"area\",stacked=False,grid = True, title=\"Trip Temp Forecast\")\n",
    "plt.xticks(np.arange(9),trip_date,rotation = 40)\n",
    "plt.xlabel('date')\n",
    "plt.savefig(\"Images/trip_temp.png\")"
   ]
  }
 ],
 "metadata": {
  "kernel_info": {
   "name": "python3"
  },
  "kernelspec": {
   "display_name": "Python 3",
   "language": "python",
   "name": "python3"
  },
  "language_info": {
   "codemirror_mode": {
    "name": "ipython",
    "version": 3
   },
   "file_extension": ".py",
   "mimetype": "text/x-python",
   "name": "python",
   "nbconvert_exporter": "python",
   "pygments_lexer": "ipython3",
   "version": "3.7.1"
  },
  "nteract": {
   "version": "0.12.3"
  },
  "varInspector": {
   "cols": {
    "lenName": 16,
    "lenType": 16,
    "lenVar": 40
   },
   "kernels_config": {
    "python": {
     "delete_cmd_postfix": "",
     "delete_cmd_prefix": "del ",
     "library": "var_list.py",
     "varRefreshCmd": "print(var_dic_list())"
    },
    "r": {
     "delete_cmd_postfix": ") ",
     "delete_cmd_prefix": "rm(",
     "library": "var_list.r",
     "varRefreshCmd": "cat(var_dic_list()) "
    }
   },
   "types_to_exclude": [
    "module",
    "function",
    "builtin_function_or_method",
    "instance",
    "_Feature"
   ],
   "window_display": false
  }
 },
 "nbformat": 4,
 "nbformat_minor": 2
}
